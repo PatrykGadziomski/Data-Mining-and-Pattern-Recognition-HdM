{
 "cells": [
  {
   "cell_type": "markdown",
   "metadata": {},
   "source": [
    "# Eigenface Gesichtserkennung\n",
    "* Autor: Prof. Dr. Johannes Maucher\n",
    "* Datum: 27.11.2015\n",
    "\n",
    "[Übersicht Versuche im Data Mining Praktikum](http://maucher.pages.mi.hdm-stuttgart.de/ai/page/dm/)\n",
    "\n",
    "## Abgabe:\n",
    "\n",
    "- **Abzugeben ist das Jupyter Notebook mit dem verlangten Implementierungen und den entsprechenden Ausgaben.**\n",
    "- **Das Notebook ist als .ipynb und als .html abzugeben.**\n",
    "- **Klausurelevante Fragen sind Dokument \"Fragenkatalog Datamining\" zu finden.**\n",
    "- Antworten auf Fragen im Notebook, Diskussionen und Beschreibung der Ergebnisse sind optional (aber empfohlen) und werden nicht bewertet.\n",
    "\n",
    "* [Übersicht Data Mining Praktikum](https://maucher.pages.mi.hdm-stuttgart.de/ai/page/dm/)\n",
    "\n",
    "\n",
    "# Einführung\n",
    "\n",
    "## Lernziele:\n",
    "\n",
    "In diesem Versuch sollen Kenntnisse in folgenden Themen vermittelt werden:\n",
    "\n",
    "* __Gesichtserkennung:__ mit der Eigenface Methode. \n",
    "* __Principal Component Analysis__\n",
    "* __Bildverarbeitung__ mit Python.\n",
    "\n",
    "Sämtliche Verfahren und Algorithmen werden in Python implementiert.\n",
    "\n",
    "## Theorie zur Vorbereitung\n",
    "\n",
    "Die Gesichtserkennung kann mit unterschiedlichen Ansätzen realisiert werden. In diesem Versuch wird ausschließlich der *Eigenface*-Ansatz vorgestellt. Dieser Ansatz basiert auf der *Principal Component Analysis (PCA)* und wurde erstmals in [M. Turk, A. Pentland; Eigenfaces for Recognition](https://direct.mit.edu/jocn/article/3/1/71/3025/Eigenfaces-for-Recognition) vorgestellt. Die Eigenface-Methode weist eine gute Performance im Fall biometrisch aufgenommener Gesichtsbilder auf.\n",
    "\n",
    "### Das Prinzip der Eigenface Gesichtserkennung\n",
    "\n",
    "Bilder mit $C$ Pixeln in der Breite und $R$ Pixeln in der Höhe können als $R \\times C$ Matrizen abgespeichert werden. Handelt es sich um ein Schwarz-Weiß- oder Graustufen-Bild, dann wird pro Bild nur eine derartige Matrix benötigt. Der Eintrag in der i.ten Zeile und j.ten Spalte dieser Matrix definiert den Grauwert des entsprechenden Pixels. In Farbbildern werden je nach benutztem Farbraum mehrere  Matrizen pro Bild benötigt, wobei jede Matrix einen Farbkanal des Bildes repräsentiert. Für ein RGB-Bild werden z.B. 3 Matrizen für die Farbkanäle Rot, Grün und Blau benötigt. \n",
    "\n",
    "Im Folgenden wird von quadratischen Graubildern mit $N \\times N$ Pixeln ausgegangen. Wird jedes Pixel als ein Merkmal betrachtet, dann existieren insgesamt $N^2$ Merkmale, das Bild kann auch als ein Punkt im $N^2$-dimensionalen Raum betrachtet werden. Bilder der Auflösung $256 \\times 256$ müßten also im $65536$-dimensionalen Raum beschrieben werden. Entsprechend komplex wäre die notwendige Verarbeitung. Ist jedoch bekannt, dass in einer Menge von Bildern jeweils ein gleichartiges Objekt abgebildet ist, z.B. wenn alle Bilder ausschließlich je ein Gesicht enthalten, dann existieren große Abhängigkeiten zwischen diesen Bildern. Geometrisch ausgedrückt bedeutet dies, dass die Punkte, welche die Menge der gleichartigen Bilder beschreiben, nicht gleichmäßig über den $N^2$-dimensionalen Raum verteilt sind, sondern in einen relativ kleinen Unterraum mit $K<<N^2$ Dimensionen nahezu vollständig beschrieben werden können. Jede dieser $K$ Dimensionen beschreibt ein für die Kategorie (z.B. Gesichtsbilder) relevantes Merkmal. Im Fall der Gesichtserkennung werden die relevanten Merkmale auch als Eigenfaces bezeichnet. Jedes Eigenface kann als Bild dargestellt werden, welches ein bestimmtes Gesichtsmerkmal besonders hervorhebt. Jedes individuelle Bild der Kategorie (d.h. jedes Gesicht) kann dann als Linearkombination der $K$ relevanten Merkmale (der $K$ Eigenfaces) beschrieben werden.\n",
    "\n",
    "Das Problem besteht nun zunächst darin, aus einer Menge von Bildern der gleichen Kategorie die relevanten Merkmale zu finden. Dieses Problem wird durch die Principal Component Analysis (PCA) gelöst. Die PCA, findet in einer Menge von Bildern der gleichen Kategorie die Hauptachsen, also die Richtungen im $N^2$-dimensionalen Raum, entlang derer die Varianz zwischen den gegebenen Bildern am stärksten ist. Der $N^2$-dimensionale Pixelraum wird dann in einen Raum, der durch die gefundenen Hauptachsen aufgespannt wird, transformiert. In diesem in der Anzahl der Dimensionen stark reduzierten Raum wird dann die Bilderkennung durchgeführt. Der hier skizzierte Ansatz der Eigenfaces für die Gesichtserkennung wurde erstmalig in [M. Turk, A. Pentland; Eigenfaces for Recognition](https://direct.mit.edu/jocn/article/3/1/71/3025/Eigenfaces-for-Recognition) beschrieben.\n",
    "\n",
    "### Genereller Ablauf\n",
    "\n",
    "Die Gesichtserkennung besteht aus 2 Phasen. In der Trainingsphase werden die Gesichtsbilder der zu erkennenden Personen eingelesen und für diese mit der PCA der Eigenface-Raum berechnet. In der Erkennungsphase wird ein neu aufgenommenes Bild in den Eigenface-Raum transformiert und dort dem naheliegendsten Bild aus der Trainingsmenge zugeordnet.\n",
    "\n",
    "#### Trainingsphase\n",
    "\n",
    "1. Lese Gesichtsbilder der Personen, die erkannt werden sollen ein. Die Menge dieser Bilder definiert das Trainingsset.\n",
    "2. Berechne mit der PCA den Eigenface-Raum. Dabei werden nur die K Dimensionen, welche zu den Eigenvektoren mit den größten Eigenwerten gehören ausgewählt. Die zu den K Dimensionen (Eigenvektoren) gehörenden Bilder sind die Eigenfaces.\n",
    "3. Transformiere jedes Bild der Trainingsmenge in den Eigenface-Raum und erhalte so die entsprechende Repräsentation des Bildes als Punkt im Eigenface-Raum.\n",
    "\n",
    "#### Erkennungsphase\n",
    "\n",
    "1. Transformiere das zu erkennende Bild in den Eigenface-Raum und berechne dort die Koordinaten des Bildes hinsichtlich aller K-Dimensionen (Eigenfaces).\n",
    "2. Bestimme ob das zu erkennende Bild überhaupt ein Gesicht darstellt.\n",
    "3. Bestimme ob das Gesicht zu einer bekannten Person, deren Bild in der Trainingsmenge enthalten ist, gehört.\n",
    "\n",
    "#### Update (optional)\n",
    "\n",
    "Füge das erkannte Bild zur Menge der Trainingsbilder hinzu und führe die Schritte der Trainingsphase durch.\n",
    "\n",
    "### Bestimmung der Eigenfaces\n",
    "\n",
    "<a id='theoryEig'></a>\n",
    "Es werden zunächst $M$ Gesichtsbilder der zu erkennenden Personen eingelesen (von jeder zu erkennenden Personen möglichst mehrere Bilder). Es wird davon ausgegangen, dass jedes der Bilder $C$ Pixel breit und $R$ Pixel hoch ist. Das Bild kann dann als $R \\times C$ Matrix dargestellt werden. Im Fall eines Graustufenbildes repräsentieren die Pixelwerte den entsprechenden Grauwert. Nach dem Einlesen werden die Bildmatrizen als eindimensionale Vektoren dargestellt. Für diese Umformung werden die Zeilen jeder Matrix von oben nach unten ausgelesen und hintereinander gereiht. Jedes Bild wird dann durch einen Vektor der Länge $Z=R \\cdot C$ repräsentiert und kann als Punkt im Z-dimensionalen Raum dargestellt werden. Die $M$ Bildvektoren werden im folgenden mit $$\\Gamma _1, \\Gamma_2, \\ldots, \\Gamma_M$$ bezeichnet.\n",
    "\n",
    "Im nächsten Schritt wird das Durchschnittsbild berechnet\n",
    "$$\n",
    "\\overline{\\Gamma}=\\frac{1}{M}\\sum_{i=1}^{M}{\\Gamma_{i}}\n",
    "$$\n",
    "\n",
    "Dieses Durchschnittsbild wird von allen Bildern $\\Gamma_i$ abgezogen. Die Menge der so gewonnenen Bildrepräsentationen\n",
    "$$\n",
    "\\Phi_i=\\Gamma_i - \\overline{\\Gamma}\n",
    "$$\n",
    "\n",
    "ist dann mittelwertsfrei. Die Menge  $\\Phi_1, \\Phi_2, \\ldots, \\Phi_M$ wird dann einer Principal Component Analysis (PCA) (siehe auch [J. Maucher; Feature Selection and Extraction](https://docs.google.com/document/d/13cc9RGeIvsV5JsC-MsymJ6aaJs_ZsUKEwqaOOO8IL8Q/edit)) unterzogen. Hierzu werden die mittelwertfreien Bildrepräsentationen $\\Phi_i$ in die Spalten einer Matrix geschrieben. Diese Matrix wird im Folgenden mit $X$ bezeichnet. Unter der Annahme, dass die $\\Phi_i$ bereits als Spaltenvektoren vorliegen, ist die Matrix $X$ definiert als:\n",
    "\n",
    "$$\n",
    "X=\\left[ \\Phi_1, \\Phi_2, \\ldots, \\Phi_M \\right].\n",
    "$$\n",
    "\n",
    "Die entsprechende Kovarianzmatrix ist dann\n",
    "$$\n",
    "CV=X \\cdot X^T.\n",
    "$$\n",
    "\n",
    "Für die PCA müssten als nächstes eigentlich die Eigenvektoren und Eigenwerte der Kovarianzmatrix $CV$ berechnet werden. Für den vorliegenden Fall kann allerdings die hierfür notwendige Berechnung aus Komplexitätsgründen nicht realisiert werden. Man beachte dass die Matrix $CV$  $Z$ Spalten und $Z$ Zeilen enthält ($Z$ ist die Anzahl der Pixel in einem Bild) und für diese $Z$ Eigenvektoren und Eigenwerte existieren. Wie in [M. Turk, A. Pentland; Eigenfaces for Recognition](https://direct.mit.edu/jocn/article/3/1/71/3025/Eigenfaces-for-Recognition) beschrieben, existieren im Fall, dass die Anzahl der Bilder $M$ wesentlich kleiner als die Anzahl der Pixel $Z$ ist, nur $M-1$ __relevante Eigenvektoren__, die Eigenwerte aller anderen Eigenvektoren liegen nahe bei Null. Der in [M. Turk, A. Pentland; Eigenfaces for Recognition](https://direct.mit.edu/jocn/article/3/1/71/3025/Eigenfaces-for-Recognition) beschriebene Ansatz geht nun von der $M \\times M$ Matrix\n",
    "\n",
    "$$\n",
    "X^T \\cdot X\n",
    "$$\n",
    "\n",
    "aus, für welche die Eigenvektoren und Eigenwerte für eine moderate Bildanzahl $M$ gut berechnet werden können. Per Definition gilt für die Eigenvektoren $\\mathbf{v}_i$ und Eigenwerte $\\mu_i$ dieser Matrix:\n",
    "\n",
    "$$\n",
    "X^T \\cdot X \\cdot \\mathbf{v}_i = \\mu_i \\mathbf{v}_i .\n",
    "$$\n",
    "\n",
    "Werden beide Seiten dieser Matrix linksseitig mit der Matrix $X$ multipliziert,\n",
    "\n",
    "$$\n",
    "X \\cdot X^T \\cdot X \\cdot \\mathbf{v}_i = \\mu_i X \\mathbf{v}_i,\n",
    "$$\n",
    "dann ist daraus zu erkennen, dass die $M$ Vektoren\n",
    "$$\n",
    "\\mathbf{u}_i=X \\mathbf{v}_i\n",
    "$$\n",
    "\n",
    "die Eigenvektoren der Matrix $$CV=X \\cdot X^T$$ sind. D.h. es können zunächst die $M$ Eigenvektoren der relativ kleinen Matrix $X^T \\cdot X$ bestimmt und aus diesen durch eine einfache Multiplikation mit der Matrix $X$ die relevanten Eigenvektoren der Matrix $CV$ berechnet werden. Da die Matrix $X$ die $M$ Bildrepräsentationen  $\\Phi_i$ als Spalten enthält, können die gesuchten Eigenvektoren auch als Linearkombination der $M$ Bilder der Trainingsmenge beschrieben werden:\n",
    "\n",
    "$$\n",
    "\\mathbf{u}_i=\\sum_{k=1}^{M}{v_{i,k}\\Phi_k}\n",
    "$$\n",
    "\n",
    "wobei mit $v_{i,k}$ die $k.$te Komponente des Vektors $\\mathbf{v}_i$ bezeichnet wird. Die Eigenvektoren $\\mathbf{u}_i$ werden auch Eigenfaces genannt. Per Definition sind die Eigenvektoren paarweise orthogonal. Jeder Eigenvektor ist ein Spaltenvektor mit $Z$ (=Anzahl der Pixel) Komponenten.\n",
    "\n",
    "Die $M$ Eigenvektoren werden dann entsprechend der Größe der zugehörigen Eigenwerte $\\mu_i$ geordnet. Für die weiteren Schritte kann zum Zwecke einer weiteren Komplexitätsreduktion eine Untermenge der $K$ relevantesten Eigenvektoren benutzt werden (also der $K$ Eigenvektoren mit den höchsten Eigenwerten). Beispielsweise ist in [M. Turk, A. Pentland; Eigenfaces for Recognition](https://direct.mit.edu/jocn/article/3/1/71/3025/Eigenfaces-for-Recognition) für die Erkennung von $M=16$ Personen und eine Auflösung von $256 \\times 256$ Pixel meist $K=7$ Eigenvektoren für eine gute Erkennung ausreichend.\n",
    "\n",
    "### Gesichtserkennung im Eigenspace\n",
    "\n",
    "<a id='theoryRec'></a>\n",
    "\n",
    "Die $K$ ausgewählten Eigenvektoren $\\mathbf{u}_1,\\mathbf{u}_2,\\ldots \\mathbf{u}_K$ spannen einen $K-$dimensionalen Raum, den sogenannten Eigenspace auf. Die $K$ Vektoren repräsentieren die $K$ Merkmale hinsichtlich derer die Bilder der Trainingsdatenmenge am stärksten variieren.\n",
    "\n",
    "Für die Bilderkennung wird jetzt jedes Bild, also sowohl die Bilder aus der Trainingsmenge als auch die zu erkennenden Bilder, in den Eigenspace transformiert. Jedes Bild stellt einen Punkt im Eigenspace dar. Für die Erkennung kann einfach die Distanz des zu erkennenden Bildes zu allen Bildern der Trainingsmenge berechnet werden. Das zu erkennende Bild wird der Person (Bildklasse) zugeordnet, deren Punkt im Eigenspace dem Punkt des zu erkennenden Bildes am nächsten liegt.\n",
    "\n",
    "Die $K$ Komponenten eines Trainingsbildes werden berechnet, indem das Bild auf den jeweiligen Eigenvektor projiziert wird. Demnach ist die $k.$te Komponente des $i.$ten Trainingsbildes  $\\Phi_i$:\n",
    "$$\n",
    "\\omega_{k,i}=\\mathbf{u}_k^T \\Phi_i\n",
    "$$\n",
    "\n",
    "Der dem Bild $\\Phi_i$ entsprechende Punkt im Eigenspace ist dann\n",
    "$$\n",
    "\\mathbf{w}_i=[\\omega_{1,i},\\omega_{2,i},\\ldots,\\omega_{K,i}]. \n",
    "$$\n",
    "\n",
    "Wird mit $\\Gamma$ das zu erkennende Bild und mit $\\Phi=\\Gamma - \\overline{\\Gamma}$ die um den Mittelwert der Trainingsbilder subtrahierte Version des Bildes bezeichnet, dann sind\n",
    "$$\n",
    "\\omega_{k}=\\mathbf{u}_k^T \\Phi\n",
    "$$\n",
    "\n",
    "die Koordinaten der Projektion von $\\Phi$ in den Eigenspace und der dieses Bild repräsentierende Punkt\n",
    "$$\n",
    "\\mathbf{w}=[\\omega_{1},\\omega_{2},\\ldots,\\omega_{K}].\n",
    "$$\n",
    "\n",
    "Das zu erkennende Bild wird dann dem Trainingsbild $\\Phi_j$ zugeordnet, für welches gilt:\n",
    "$$\n",
    "j=argmin_{i} \\left\\{ d(\\mathbf{w},\\mathbf{w}_i) \\right\\}\n",
    "$$\n",
    "\n",
    "wobei mit $d(\\mathbf{w},\\mathbf{w}_i)$ die euklidische Distanz zwischen den Projektionen von $\\Phi$ und $\\Phi_i$ bezeichnet wird.\n",
    "\n",
    "__Optional:__ Falls $\\Phi_i$ nicht das einzige Bild einer Person in der Trainingsmenge ist, sondern für die entsprechende Person mehrere Trainingsbilder vorliegen, wird in der Distanzberechnung nicht $\\Phi_i$, sondern der Mittelwert über alle zu dieser Person gehörenden Bilder eingesetzt:\n",
    "\n",
    "$$\n",
    "\\overline{\\Phi}=\\frac{1}{|W|}\\sum_{w \\in W}^{}{\\Phi_w} .\n",
    "$$\n",
    "\n",
    "Dabei bezeichnet $W$ die Menge aller der Indizes $w$, für die die $\\Phi_w$ zur gleichen Person gehören. Im Praktikumsversuch muss diese Option nicht implementiert werden. Die im folgenden Abschnitt beschriebene Versuchsdurchführung bezieht sich auf den Fall, dass nur die Distanz zu Einzelbildern berechnet wird und das nächstliegende Bild ausgegeben wird.\n",
    "\n",
    "Für die Mindestdistanz\n",
    "$$\n",
    "\\epsilon =\\min_{i} \\left\\{ d(\\Phi,\\Phi_i) \\right\\}\n",
    "$$\n",
    "\n",
    "wird in der Regel eine Schwelle $T$ definiert. Wenn $\\epsilon > T$ ist, also eine relativ große Distanz zwischen dem zu erkennenden Bild und dem nächstliegenden Bild aus der Trainingsmenge besteht, wird davon ausgegangen, dass es sich um ein unbekanntes Gesicht handelt. Optional könnte dieses unbekannte Gesicht in die Trainingsmenge aufgenommen werden.\n",
    "\n",
    "Schließlich muss noch der Fall behandelt werden, dass das eingelesene Bild kein Gesicht darstellt. Aufgrund der starken Projektion vom ursprünglichen Bildraum in den Eigenspace kann dieser Fall nicht durch eine Schwelle auf den Fehler $\\epsilon$ erkannt werden. Es kann durchaus sein, dass ein Nicht-Gesichtsbild in die Umgebung eines Gesichtsbild im Eigenspace projiziert wird. Ein Nicht-Gesichtsbild wird aber eine relativ große Distanz $d(\\Phi,\\Phi_f)$ zwischen\n",
    "\n",
    "$$\n",
    "\\Phi=\\Gamma - \\overline{\\Gamma}\n",
    "$$\n",
    "und der Repräsentation im Eigenspace\n",
    "$$\n",
    "\\Phi_f=\\sum_{k=1}^{K}{\\omega_k}\\mathbf{u}_k\n",
    "$$\n",
    "aufweisen. Durch die Definition einer weiteren Schwelle $S$ auf $d(\\Phi,\\Phi_f)$ kann also erkannt werden, ob es sich überhaupt um ein Gesicht handelt. Im Versuch ist davon auszugehen, dass nur Gesichtsbilder verwendet werden, d.h. es muss nur der Test gegen die Schwelle $\\epsilon$ implementiert werden.\n"
   ]
  },
  {
   "cell_type": "markdown",
   "metadata": {},
   "source": [
    " ## Vor dem Versuch zu klärende Fragen\n",
    " \n",
    " * Was sind Eigenvektoren und Eigenwerte?"
   ]
  },
  {
   "cell_type": "markdown",
   "metadata": {},
   "source": [
    "- Eigenvektoren sind die Vektoren innerhalb der transformierten Matrix\n",
    "- Eigenwerte ist der Skalar des EIgenvektors"
   ]
  },
  {
   "cell_type": "markdown",
   "metadata": {},
   "source": [
    "* Was versteht man unter Eigenfaces?"
   ]
  },
  {
   "cell_type": "markdown",
   "metadata": {},
   "source": [
    "**Antowrt**:\n",
    "\n",
    "Im Fall der Gesichtserkennung werden die relevanten Merkmale auch als Eigenfaces bezeichnet. Jedes Eigenface kann als Bild dargestellt werden, welches ein bestimmtes Gesichtsmerkmal besonders hervorhebt."
   ]
  },
  {
   "cell_type": "markdown",
   "metadata": {},
   "source": [
    "* Die PCA ist u.a. im entsprechenden Kapitel des Dokuments [J. Maucher; Feature Selection and Extraction](https://docs.google.com/document/d/13cc9RGeIvsV5JsC-MsymJ6aaJs_ZsUKEwqaOOO8IL8Q/edit) beschrieben. Wie kann mit der PCA eine Dimensionalitätsreduktion durchgeführt werden?"
   ]
  },
  {
   "cell_type": "markdown",
   "metadata": {},
   "source": [
    "Durch die Dimenionalitätsreduktion, welche die Teilmengen der ursprünglichen Merkmalsmengen ist"
   ]
  },
  {
   "cell_type": "markdown",
   "metadata": {},
   "source": [
    "* Wie werden mit dem Python Modul *Image* Bilder in ein Python-Programm geladen?"
   ]
  },
  {
   "cell_type": "markdown",
   "metadata": {},
   "source": [
    "- Mit ``PIL-IMage.open()`` wird das Bild eingelesen und erkannt, indem der Pfad des Bildes angegeben wird\n",
    "- Es wird ein ``Image``-Objekt zurückgegeben"
   ]
  },
  {
   "cell_type": "markdown",
   "metadata": {},
   "source": [
    "# Versuchsdurchführung\n",
    "\n",
    "## Einlesen der Gesichtsbilder in Numpy Arrays\n",
    "Laden Sie die _Gesichtsbilder_ von [Nextcloud](https://cloud.mi.hdm-stuttgart.de/s/qP889wMDsWRpPfB) herunter. Darin enthalten sind\n",
    "\n",
    "* das Unterverzeichnis *training*, welches je 3 Bilder jedes Studenten enthält,\n",
    "* das Unterverzeichnis *test*, welches die nicht in *training* enthaltenen Bilder enthält. Ein Bild von jedem Studenten.\n",
    "\n",
    "Mit der unten gegebenen Funktion `parseDirectory(directoryName,extension)` wird eine Liste aller Dateinamen des Typs _extension_ im Verzeichnis _directoryName_ angelegt.\n",
    "\n",
    "__Aufgabe:__\n",
    "\n",
    "1. Legen Sie mit dieser Funktion eine Liste mit allen Dateinamen des Typs `extension='png'` im Verzeichnis _training_ (enthält die Trainingsbilder) an.\n",
    "2. Implementieren Sie eine Funktion `readImageToNumpyData(imageList)`, der eine Liste aller Dateinamen der Trainingsbilder übergeben wird. Die Funktion gibt ein Numpy-Array zurück. Jede Zeile dieses Arrays enthält ein *.png*-Bild in serialisierter Form. Hierzu ist jedes einzelne Bild zunächst mit der Funktion `matplotlib.image.imread(filename)` in ein zweidimensionales Numpy Array _img_ zu lesen. Durch den Aufruf von `img.shape=(1,-1)` wird das zweidimensionale Numpy Array zu einem eindimensionalen Array serialisiert. Dasselbe kann auch durch `img=img.reshape((1,-1))` erreicht werden. Danach muss eine Normierung aller Werte in den Bereich zwischen 0 und 1 durchgeführt werden. Hierzu müssen alle Pixelwerte eines Bildes durch den im jeweiligen Bild vorkommenden Maximalwert geteilt werden.  "
   ]
  },
  {
   "cell_type": "code",
   "execution_count": 120,
   "metadata": {},
   "outputs": [],
   "source": [
    "%matplotlib inline\n",
    "from os.path import isdir,join,normpath\n",
    "from os import listdir\n",
    "import numpy as np\n",
    "from matplotlib import pyplot as plt\n",
    "from matplotlib import image as mplimg"
   ]
  },
  {
   "cell_type": "code",
   "execution_count": 121,
   "metadata": {},
   "outputs": [],
   "source": [
    "def parseDirectory(directoryName, extension):\n",
    "    '''\n",
    "    This method returns a list of all filenames in the Directory directoryName. \n",
    "    For each file the complete absolute path is given in a normalized manner (with \n",
    "    double backslashes). Moreover only files with the specified extension are returned in \n",
    "    the list.\n",
    "    '''\n",
    "    if not isdir(directoryName): return\n",
    "\n",
    "    imagefilenameslist=sorted([\n",
    "        normpath(join(directoryName, fname))\n",
    "        for fname in listdir(directoryName)\n",
    "        if fname.lower().endswith('.'+extension)            \n",
    "        ])\n",
    "    \n",
    "    return imagefilenameslist"
   ]
  },
  {
   "cell_type": "code",
   "execution_count": 122,
   "metadata": {},
   "outputs": [],
   "source": [
    "train_images = parseDirectory(directoryName='.\\\\FaceRecogBilder\\\\training\\\\', extension='png')"
   ]
  },
  {
   "cell_type": "code",
   "execution_count": 123,
   "metadata": {},
   "outputs": [],
   "source": [
    "def readImageToNumpyData(imageList):\n",
    "    results = [mplimg.imread(i).reshape((1,-1))[0] for i in imageList]\n",
    "    results = [i/max(i) for i in results]\n",
    "    return results"
   ]
  },
  {
   "cell_type": "code",
   "execution_count": 124,
   "metadata": {},
   "outputs": [],
   "source": [
    "normed_train_data = readImageToNumpyData(imageList=train_images)"
   ]
  },
  {
   "cell_type": "markdown",
   "metadata": {},
   "source": [
    "## Berechnung des Durchschnittbildes\n",
    "\n",
    "__Aufgaben:__\n",
    "\n",
    "1. Die von der Funktion `readImageToNumpyData(imgList)` zurückgelieferte Matrix enthält in ihren Zeilen alle Trainingsbilder. Aus diesen Trainingsbildern ist nach der Gleichung für [$\\overline{\\Gamma}$](#theoryEig) das Durchschnittsbild zu berechnen, z.B. durch Anwendung der Numpy-Funktion _average_. Das Durchschnittsbild ist von allen Bildern abzuziehen (Gleichung [$\\Phi_i$](#theoryEig)). Das daraus resultierende Numpy-Array enthält die mittelwertfreien Repräsentationen der Trainingsbilder und wird im Folgenden mit _NormedArrayOfFaces_ bezeichnet.\n",
    "\n",
    "2. Zeigen Sie das Durchschnittsbild mithilfe der `matplotlib.pyplot.imshow()` an. Hierzu muss das eindimensionale Numpy Array, welches das Durchschnittsbild enthält, in ein zweidimensionales Array der ursprünglichen Bildgröße umgewandelt werden (Numpy Funktion `reshape()`)  \n",
    "\n",
    "__Wichtiger Hinweis:__ Das Numpy-Array __NormedArrayOfFaces__ ist die Transpornierte $X^T$ der Matrix $X$ aus Gleichung [$X$](#theoryEig)."
   ]
  },
  {
   "cell_type": "code",
   "execution_count": 125,
   "metadata": {},
   "outputs": [],
   "source": [
    "average_img = np.average(normed_train_data, axis=0)"
   ]
  },
  {
   "cell_type": "code",
   "execution_count": 126,
   "metadata": {},
   "outputs": [],
   "source": [
    "normedArrayOfFaces = [i - average_img for i in normed_train_data]"
   ]
  },
  {
   "cell_type": "code",
   "execution_count": 130,
   "metadata": {},
   "outputs": [
    {
     "data": {
      "text/plain": [
       "<matplotlib.image.AxesImage at 0x205183f47f0>"
      ]
     },
     "execution_count": 130,
     "metadata": {},
     "output_type": "execute_result"
    },
    {
     "data": {
      "image/png": "[encoded data removed]",
      "text/plain": [
       "<Figure size 640x480 with 1 Axes>"
      ]
     },
     "metadata": {},
     "output_type": "display_data"
    }
   ],
   "source": [
    "average_img_plot = average_img.reshape((220, 150))\n",
    "plt.imshow(average_img_plot, cmap='gray')"
   ]
  },
  {
   "cell_type": "markdown",
   "metadata": {},
   "source": [
    "## Berechnung der Eigenfaces\n",
    "\n",
    "__Aufgaben:__\n",
    "\n",
    "1. Implementieren Sie die Funktion `calculateEigenfaces(adjfaces,width,height)`. Dieser Funktion werden die normierten Bilder _NormedArrayOfFaces_ zusammen mit der Bildbreite und -höhe übergeben. Zurück liefert die Funktion ein Numpy-Array, dessen Zeilen die berechneten normierten Eigenfaces sind. Die Berechnung der Eigenfaces ist im Theorieteil Abschnitt [Bestimmung der Eigenfaces](#theoryEig) beschrieben. Für die Python-Implementierung können Sie folgende Hinweise berücksichtigen:\n",
    "    * Berechnung der transponierten eines Numpy-Arrays $A$ mit der Numpy-Methode `transpose()`\n",
    "    * Matrixmultiplikation zweier Numpy-Arrays $A$ und $B$ mit der Numpy-Funktion `dot()`\n",
    "    * Berechnung der Eigenvektoren und Eigenvalues eines Numpy Arrays $A$ mit der Numpy-Funktion `linalg.eigh()`\n",
    "    * Sortierung von Numpy-Arrays mit den Numpy-Funktionen `sort()` und `argsort()`.\n",
    "2. Aus dem von der Funktion `calculateEigenfaces(adjfaces,width,height)` zurück gelieferten Array von Eigenfaces sind die $K$ relevantesten auszuwählen. Dieses reduzierte Array wird im Folgenden mit _Usub_ bezeichnet. Im Versuch kann $K=6$ eingestellt werden.\n",
    "3. Zeigen Sie die $K=6$ wichtigsten Eigenfaces als Bilder mit der `matplotlib.pyplot.imshow()` an."
   ]
  },
  {
   "cell_type": "code",
   "execution_count": 165,
   "metadata": {},
   "outputs": [],
   "source": [
    "def calculateEigenfaces(adjfaces):\n",
    "    trans_X = np.transpose(adjfaces)\n",
    "    cv = np.dot(adjfaces, trans_X)\n",
    "    eigenvalues, eigenvectors = np.linalg.eigh(cv)\n",
    "    return eigenvectors\n",
    "\n",
    "# Ascending"
   ]
  },
  {
   "cell_type": "code",
   "execution_count": 172,
   "metadata": {},
   "outputs": [],
   "source": [
    "eigenfaces = calculateEigenfaces(adjfaces=normedArrayOfFaces)"
   ]
  },
  {
   "cell_type": "code",
   "execution_count": 175,
   "metadata": {},
   "outputs": [],
   "source": [
    "def usub_function(eigenfaces, k):\n",
    "    return eigenfaces[-k:]"
   ]
  },
  {
   "cell_type": "code",
   "execution_count": 185,
   "metadata": {},
   "outputs": [],
   "source": [
    "usub = usub_function(eigenfaces, 6)"
   ]
  },
  {
   "cell_type": "code",
   "execution_count": 191,
   "metadata": {},
   "outputs": [
    {
     "data": {
      "image/png": "[encoded data removed]",
      "text/plain": [
       "<Figure size 640x480 with 1 Axes>"
      ]
     },
     "metadata": {},
     "output_type": "display_data"
    }
   ],
   "source": [
    "for i in usub:\n",
    "    plt.imshow(usub.dot(normedArrayOfFaces), cmap='gray')"
   ]
  },
  {
   "cell_type": "markdown",
   "metadata": {},
   "source": [
    "## Transformation der normierten Trainingsbilder in den Eigenface Raum\n",
    "\n",
    "__Aufgabe:__\n",
    "\n",
    "Die im vorigen Schritt angelegten $K$ relevantesten Eigenfaces spannen den sogenannten _Eigenface-Raum_ auf. Für jedes der normierten Trainingsbilder, also für jede Zeile aus *NormedArrayOfFaces*, sind die Koordinaten im Eigenface-Raum entsprechend der Gleichung für [$\\omega_{k,i}$](#theoryRec) definierten Transformation zu berechnen."
   ]
  },
  {
   "cell_type": "code",
   "execution_count": 116,
   "metadata": {},
   "outputs": [],
   "source": [
    "#Your Code"
   ]
  },
  {
   "cell_type": "markdown",
   "metadata": {},
   "source": [
    "## Erkennung\n",
    "\n",
    "__Aufgaben:__\n",
    "\n",
    "1. Wählen Sie ein Bild aus dem Verzeichnis _test_ aus. Das ausgewählte zu erkennende Bild ist als Numpy-Array darzustellen. Eine Normierung der Pixelwerte in den Bereich zwischen 0 und 1 ist durchzuführen (wie bereits oben beschrieben). Schließlich muss auch von diesem Bild das Durchschnittsbild aller Trainingsbilder abgezogen werden. Diese Prozessschritte entsprechen der oben beschriebenen Vorverarbeitung der Trainingsbilder. Das resultierende normierte und mittelwertfreie Bild wird im Folgenden mit _NormedTestFace_ bezeichnet.\n",
    "3. Danach sind die Koordinaten des _NormedTestFace_ im Eigenface-Raum nach Gleichung [$\\omega_{k}$](#theoryRec) zu berechnen und das in diesem Raum nächstliegende Trainingsbild zu bestimmen."
   ]
  },
  {
   "cell_type": "code",
   "execution_count": 117,
   "metadata": {},
   "outputs": [],
   "source": [
    "#Your Code"
   ]
  },
  {
   "cell_type": "markdown",
   "metadata": {},
   "source": [
    "__Aufgaben:__\n",
    "1. Führen Sie die implementierte Gesichtserkennung für alle Bilder im Verzeichnis _test_ aus. Zeigen Sie jeweils das Testbild, das zugehörige erkannte Bild und die Distanz zwischen beiden Bildern an.\n",
    "2. Bestimmen Sie für die Werte $K=5,K=10$ und $K=15$ ($K$ ist die Anzahl der verwendeten Eigenfaces) die Rate falsch erkannter Bilder. "
   ]
  },
  {
   "cell_type": "code",
   "execution_count": null,
   "metadata": {},
   "outputs": [],
   "source": []
  }
 ],
 "metadata": {
  "kernelspec": {
   "display_name": "DMaPR",
   "language": "python",
   "name": "python3"
  },
  "language_info": {
   "codemirror_mode": {
    "name": "ipython",
    "version": 3
   },
   "file_extension": ".py",
   "mimetype": "text/x-python",
   "name": "python",
   "nbconvert_exporter": "python",
   "pygments_lexer": "ipython3",
   "version": "3.10.15"
  },
  "nav_menu": {},
  "toc": {
   "navigate_menu": true,
   "number_sections": true,
   "sideBar": true,
   "threshold": 6,
   "toc_cell": false,
   "toc_section_display": "block",
   "toc_window_display": true
  }
 },
 "nbformat": 4,
 "nbformat_minor": 1
}
