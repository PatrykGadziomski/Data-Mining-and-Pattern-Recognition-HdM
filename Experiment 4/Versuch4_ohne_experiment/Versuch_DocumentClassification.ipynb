{
 "cells": [
  {
   "cell_type": "markdown",
   "metadata": {},
   "source": [
    "# Data Mining Versuch Document Classification\n",
    "* **Autor**: Prof. Dr. Johannes Maucher\n",
    "* **Datum**: 06.11.2015\n",
    "* **Studierende**: Paul Michels (pm080), Erzan Gashi (eg053), Patryk Gadziomski (pg058)\n",
    "\n",
    "[Übersicht Versuche im Data Mining Praktikum](http://maucher.pages.mi.hdm-stuttgart.de/ai/page/dm/)\n",
    "\n",
    "## Abgabe:\n",
    "\n",
    "- **Abzugeben ist das Jupyter Notebook mit dem verlangten Implementierungen und den entsprechenden Ausgaben.**\n",
    "- **Das Notebook ist als .ipynb und als .html abzugeben.**\n",
    "- **Klausurelevante Fragen sind Dokument \"Fragenkatalog Datamining\" zu finden.**\n",
    "- Antworten auf Fragen im Notebook, Diskussionen und Beschreibung der Ergebnisse sind optional (aber empfohlen) und werden nicht bewertet.\n",
    "\n",
    "* [Übersicht Data Mining Praktikum](https://maucher.pages.mi.hdm-stuttgart.de/ai/page/dm/)\n",
    "\n",
    "\n",
    "# Einführung\n",
    "\n",
    "## Lernziele:\n",
    "\n",
    "In diesem Versuch sollen Kenntnisse in folgenden Themen vermittelt werden:\n",
    "\n",
    "* Dokumentklassifikation: Klassifikation von Dokumenten, insbesondere Emails und RSS Feed\n",
    "* Naive Bayes Classifier: Weit verbreitete Klassifikationsmethode, welche unter bestimmten Randbedingungen sehr gut skaliert.\n",
    "\n",
    "\n",
    "## Theorie zur Vorbereitung\n",
    "\n",
    "### Parametrische Klassifikation und Naive Bayes Methode\n",
    "\n",
    "Klassifikatoren müssen zu einer gegebenen Eingabe $\\underline{x}$ die zugehörige Klasse $C_i$ bestimmen. Mithilfe der Wahrscheinlichkeitstheorie kann diese Aufgabe wie folgt beschrieben werden: Bestimme für alle möglichen Klassen $C_i$ die bedingte Wahrscheinlichkeit $P(C_i | \\underline{x})$, also die Wahrscheinlichkeit, dass die gegebene Eingabe $\\underline{x}$ in Klasse $C_i$ fällt. Wähle dann die Klasse aus, für welche diese Wahrscheinlichkeit maximal ist.\n",
    "\n",
    "Die Entscheidungsregeln von Klassifikatoren können mit Methoden des \"überwachten Lernens\" aus Trainingsdaten ermittelt werden. Im Fall des **parametrischen Lernens** kann aus den Trainingsdaten die sogenannte **Likelihood-Funktion** $p(\\underline{x} \\mid C_i)$ bestimmt werden. _Anmerkung:_ Allgemein werden mit $p(...)$ kontinuierliche Wahrscheinlichkeitsfunktionen und mit $P(...)$ diskrete Wahrscheinlichkeitswerte bezeichnet. \n",
    "\n",
    "Mithilfe der **Bayes-Formel**\n",
    "$$\n",
    "P(C_i \\mid \\underline{x}) = \\frac{p(\\underline{x} \\mid C_i) \\cdot P(C_i)}{p(\\underline{x})}\n",
    "$$\n",
    "\n",
    "kann aus der Likelihood die **a-posteriori-Wahrscheinlichkeit $P(C_i \\mid \\underline{x})$** berechnet werden. Darin wird $P(C_i)$ die **a-priori-Wahrscheinlichkeit** und $p(\\underline{x})$ die **Evidenz** genannt. Die a-priori-Wahrscheinlichkeit kann ebenfalls aus den Trainingsdaten ermittelt werden. Die Evidenz ist für die Klassifikationsentscheidung nicht relevant, da sie für alle Klassen $C_i$ gleich groß ist.\n",
    "\n",
    "Die Berechnung der Likelihood-Funktion $p(\\underline{x} \\mid C_i)$ ist dann sehr aufwendig, wenn $\\underline{x}=(x_1,x_2,\\ldots,x_Z)$ ein Vektor von voneinander abhängigen Variablen $x_i$ ist. Bei der **Naive Bayes Classification** wird jedoch von der vereinfachenden Annahme ausgegangen, dass die Eingabevariabeln $x_i$ voneinander unabhängig sind. Dann vereinfacht sich die bedingte Verbundwahrscheinlichkeits-Funktion $p(x_1,x_2,\\ldots,x_Z \\mid C_i)$ zu:\n",
    "\n",
    "$$\n",
    "p(x_1,x_2,\\ldots,x_Z \\mid C_i)=\\prod\\limits_{j=1}^Z p(x_j | C_i)\n",
    "$$\n",
    "\n",
    "### Anwendung der Naive Bayes Methode in der Dokumentklassifikation\n",
    "\n",
    "Auf der rechten Seite der vorigen Gleichung stehen nur noch von den jeweils anderen Variablen unabhängige bedingte Wahrscheinlichkeiten. Im Fall der Dokumentklassifikation sind die einzelnen Worte die Variablen, d.h. ein Ausdruck der Form $P(x_j | C_i)$ gibt an mit welcher Wahrscheinlichkeit ein Wort $x_j=w$ in einem Dokument der Klasse $C_i$ vorkommt. \n",
    "Die Menge aller Variablen $\\left\\{x_1,x_2,\\ldots,x_Z \\right\\}$ ist dann die Menge aller Wörter im Dokument. Damit gibt die linke Seite in der oben gegebenen Gleichung die *Wahrscheinlichkeit, dass die Wörter $\\left\\{x_1,x_2,\\ldots,x_Z \\right\\}$ in einem Dokument der Klasse $C_i$ vorkommen*, an.\n",
    "\n",
    "Für jedes Wort _w_ wird aus den Trainingsdaten die Wahrscheinlichkeit $P(w|G)$, mit der das Wort in Dokumenten der Kategorie _Good_ und die Wahrscheinlichkeit $P(w|B)$ mit der das Wort in Dokumenten der Kategorie _Bad_ auftaucht ermittelt. Trainingsdokumente werden in der Form\n",
    "\n",
    "$$\n",
    "tD=(String,Category)\n",
    "$$\n",
    "eingegeben. \n",
    "\n",
    "Wenn \n",
    "\n",
    "* mit der Variable $fc(w,cat)$ die Anzahl der Trainingsdokumente in Kategorie $cat$ in denen das Wort $w$ enthalten ist\n",
    "* mit der Variable $cc(cat)$ die Anzahl der Trainingsdokumente in Kategorie $cat$ \n",
    "\n",
    "gezählt wird, dann ist \n",
    "\n",
    "$$\n",
    "P(w|G)=\\frac{fc(w,G)}{cc(G)} \\quad \\quad P(w|B)=\\frac{fc(w,B)}{cc(B)}\n",
    "$$\n",
    "\n",
    "Wird nun nach der Eingabe von $L$ Trainingsdokumenten ein neu zu klassifizierendes Dokument $D$ eingegeben und sei $W(D)$ die Menge aller Wörter in $D$, dann berechnen sich unter der Annahme, dass die Worte in $W(D)$ voneinander unabhängig sind (naive Bayes Annahme) die a-posteriori Wahrscheinlichkeiten zu:\n",
    "\n",
    "$$\n",
    "P(G|D)=\\frac{\\left( \\prod\\limits_{w \\in W(D)} P(w | G) \\right) \\cdot P(G)}{p(D)}\n",
    "$$\n",
    "und\n",
    "$$\n",
    "P(B|D)=\\frac{\\left( \\prod\\limits_{w \\in W(D)} P(w | B) \\right) \\cdot P(B)}{p(D)}\n",
    "$$\n",
    "\n",
    "Die hierfür notwendigen a-priori-Wahrscheinlichkeiten berechnen sich zu \n",
    "\n",
    "$$\n",
    "P(G)=\\frac{cc(G)}{L}\n",
    "$$\n",
    "und\n",
    "$$\n",
    "P(B)=\\frac{cc(B)}{L}\n",
    "$$\n",
    "\n",
    "Die Evidenz $p(D)$ beeinflusst die Entscheidung nicht und kann deshalb ignoriert werden.\n",
    "\n",
    "\n",
    "## Vor dem Versuch zu klärende Fragen\n",
    "\n",
    "\n",
    "1. Wie wird ein Naive Bayes Classifier trainiert? Was muss beim Training für die spätere Klassifikation abgespeichert werden?"
   ]
  },
  {
   "cell_type": "markdown",
   "metadata": {},
   "source": [
    "Der Naive-Bayes Classifier wird überwacht trainiert. Dabei wird ein Classifier mit den Wahrscheinlichkeiten trainiert das ein Wort w in einem Dokument der Klasse C_i vorkommt.\n",
    "\n",
    "Die Variablen cc und fc müssen abgespeichert werden:\n",
    "* cc(cat): Anzahl der Trainingsdokumente der Kategorie cat\n",
    "* fc(w,cat): Anzahl der Trainingsdokumente der Kategorie cat in denen das Wort w vorkommt"
   ]
  },
  {
   "cell_type": "markdown",
   "metadata": {},
   "source": [
    "2. Wie teilt ein Naiver Bayes Classifier ein neues Dokument ein?"
   ]
  },
  {
   "cell_type": "markdown",
   "metadata": {},
   "source": [
    "Mit Hilfe der posteriori Wahrscheinlichkeit.\n",
    "\n",
    "Diese wird mit der Likelihood-Funktion, Evidenz und der a-priori Wahrscheinlichkeiten berechnet. \n",
    "* Likelihood-Funktion: Produkt der Wahrscheinlichkeiten dass die einzelnen Wörter aus dem Dokument in der Kategorie C_i sind.\n",
    "* a-priori Wahrscheinlichkeiten: Wahrscheinlichkeit der Kategorie C_i."
   ]
  },
  {
   "cell_type": "markdown",
   "metadata": {},
   "source": [
    "3. Welche naive Annahme liegt dem Bayes Classifier zugrunde? Ist diese Annahme im Fall der Dokumentklassifikation tatsächlich gegeben?"
   ]
  },
  {
   "cell_type": "markdown",
   "metadata": {},
   "source": [
    "Annahme: Alle Eingabevektoren sind unabhängig voneinander.\n",
    "\n",
    "Nein, da Wörter in Dokumenten voneinander abhängig sind (Semantik)."
   ]
  },
  {
   "cell_type": "markdown",
   "metadata": {},
   "source": [
    "4. Betrachten Sie die Formeln für die Berechnung von $P(G|D)$ und $P(B|D)$. Welches Problem stellt sich ein, wenn in der Menge $W(D)$ ein Wort vorkommt, das nicht in den Trainingsdaten der Kategorie $G$ vorkommt und ein anderes Wort aus $W(D)$ nicht in den Trainingsdaten der Kategorie $B$ enthalten ist? Wie könnte dieses Problem gelöst werden? "
   ]
  },
  {
   "cell_type": "markdown",
   "metadata": {
    "collapsed": true,
    "jupyter": {
     "outputs_hidden": true
    }
   },
   "source": [
    "P(w|G) bzw. P(w|B) sind 0 wenn w nich in G oder B ist, somit würde auch das Produkt in P(G|D) bzw. P(B|D) gleich 0 sein. Dadurch sind dann auch P(G|D) bzw. P(B|D) gleich 0 wodurch D mit einer Wahrscheinlichkeit von 0 in B bzw. G ist. Das Problem könnte gelöst werden wenn man eine Standard wert einführt (zb. 0.1), damit nicht durch ein einzelens Wort in einem Dokument D, das nicht in den Trainingsdaten ist, ein Dokument nicht zugewiesen werden kann."
   ]
  },
  {
   "cell_type": "markdown",
   "metadata": {},
   "source": [
    "# Durchführung\n",
    "## Feature Extraction/ -Selection\n",
    "\n",
    "**Aufgabe:**\n",
    "Implementieren Sie eine Funktion *getwords(doc)*, der ein beliebiges Dokument in Form einer String-Variablen übergeben wird. In der Funktion soll der String in seine Wörter zerlegt und jedes Wort in _lowercase_ transformiert werden. Wörter, die weniger als eine untere Grenze von Zeichen (z.B. 3) oder mehr als eine obere Grenze von Zeichen (z.B. 20) enthalten, sollen ignoriert werden. Die Funktion soll ein dictionary zurückgeben, dessen _Keys_ die Wörter sind. Die _Values_ sollen für jedes Wort zunächst auf $1$ gesetzt werden.\n",
    "\n",
    "**Tipp:** Benutzen Sie für die Zerlegung des Strings und für die Darstellung aller Wörter mit ausschließlich kleinen Buchstaben die Funktionen *split(), strip('sep')* und *lower()* der Klasse *String*.  \n"
   ]
  },
  {
   "cell_type": "code",
   "execution_count": 17,
   "metadata": {},
   "outputs": [],
   "source": [
    "import pandas as pd\n",
    "import feedparser\n",
    "from sklearn.metrics import confusion_matrix, ConfusionMatrixDisplay\n",
    "import matplotlib.pyplot as plt"
   ]
  },
  {
   "cell_type": "code",
   "execution_count": 2,
   "metadata": {},
   "outputs": [],
   "source": [
    "def getwords(doc):\n",
    "    word_list = doc.split()\n",
    "    word_dict = {}\n",
    "    list_iligel_symbols = [\"'\",'!','?','.',',',';',':','-','_','*','+','~','#','=','}','[',']','{','(',')','/','$','€',\"\\\\\",'@','\"','%','&','“','‘', '@','’']\n",
    "    for value in word_list:\n",
    "        value_str = value.lower()\n",
    "        for sym in list_iligel_symbols:\n",
    "            value_str = value_str.replace(sym, '')\n",
    "                     \n",
    "        if(len(value_str)>=3 and len(value_str)<=20):\n",
    "            if(value_str in word_dict.keys()):\n",
    "                word_dict[value_str] = 1\n",
    "            else:\n",
    "                word_dict[value_str] = 1\n",
    "    return word_dict"
   ]
  },
  {
   "cell_type": "code",
   "execution_count": 3,
   "metadata": {},
   "outputs": [],
   "source": [
    "# modifizierte Version der Methode für die Aufgabe Klassifikation von RSS-Newsfeed\n",
    "def getwordsmodified(doc):\n",
    "    word_list = doc.split()\n",
    "    word_dict = {}\n",
    "    list_iligel_symbols = [\"'\",'!','?','.',',',';',':','-','_','*','+','~','#','=','}','[',']','{','(',')','/','$','€',\"\\\\\",'@','\"','%','&','“','‘', '@','’']\n",
    "    for value in word_list:\n",
    "        value_str = value.lower()\n",
    "        for sym in list_iligel_symbols:\n",
    "            value_str = value_str.replace(sym, '')\n",
    "                     \n",
    "        if(len(value_str)>=3 and len(value_str)<=20):\n",
    "            if(value_str in word_dict.keys()):\n",
    "                word_dict[value_str] += 1\n",
    "            else:\n",
    "                word_dict[value_str] = 1\n",
    "    return word_dict"
   ]
  },
  {
   "cell_type": "markdown",
   "metadata": {
    "collapsed": true,
    "jupyter": {
     "outputs_hidden": true
    }
   },
   "source": [
    "## Classifier\n",
    "\n",
    "**Aufgabe:**\n",
    "Implementieren Sie den Naive Bayes Classifier für die Dokumentklassifikation. Es bietet sich an die Funktionalität des Klassifikators und das vom Klassifikator gelernte Wissen in einer Instanz einer Klasse _Classifier_ zu kapseln. In diesem Fall kann wie folgt vorgegangen werden:\n",
    "\n",
    "* Im Konstruktor der Klasse wird je ein Dictionary für die Instanzvariablen _fc_ und _cc_ (siehe oben) initialisiert. Dabei ist _fc_ ein verschachteltes Dictionary. Seine Keys sind die bisher gelernten Worte, die Values sind wiederum Dictionaries, deren Keys die Kategorien _Good_ und _Bad_ sind und deren Values zählen wie häufig das Wort bisher in Dokumenten der jeweiligen Kategorie auftrat. Das Dictionary _cc_ hat als Keys die Kategorien _Good_ und _Bad_. Die Values zählen wie häufig Dokumente der jeweiligen Kategorien bisher auftraten.\n",
    "* Im Konstruktor wird ferner der Instanzvariablen _getfeatures_ die Funktion *getwords()* übergeben. Die Funktion _getwords()_ wurde bereits zuvor ausserhalb der Klasse definiert. Sinn dieses Vorgehens ist, dass andere Varianten um Merkmale aus Dokumenten zu extrahieren denkbar sind. Diese Varianten könnten dann ähnlich wie die *getwords()*-Funktion ausserhalb der Klasse definiert und beim Anlegen eines *Classifier*-Objekts der Instanzvariablen _getfeatures_ übergeben werden.  \n",
    "* Der Methode _incf(self,f,cat)_ wird ein Wort _f_ und die zugehörige Kategorie _cat_ des Dokuments in welchem es auftrat übergeben. In der Methode wird der *fc*-Zähler angepasst.\n",
    "* Der Methode _incc(self,cat)_ wird die Kategorie _cat_ des gerade eingelesenen Dokuments übergeben. In der Methode wird der *cc*-Zähler angepasst.\n",
    "* Die Methode _fcount(self,f,cat)_ gibt die Häufigkeit des Worts _f_ in den Dokumenten der Kategorie _cat_ zurück.\n",
    "* Die Methode _catcount(self,cat)_ gibt die Anzahl der Dokumente in der Kategorie _cat_ zurück.\n",
    "* Die Methode _totalcount(self)_ gibt die Anzahl aller Dokumente zurück.\n",
    "* Der Methode _train(self,item,cat)_ wird ein neues Trainingselement, bestehend aus der Betreffzeile (*item*) und der entsprechenden Kategorisierung (*cat*) übergeben. Der String _item_ wird mit der Instanzmethode _getfeatures_ (Diese referenziert *getwords()*) in Worte zerlegt. Für jedes einzelne Wort wird dann *incf(self,f,cat)* aufgerufen. Ausserdem wird für das neue Trainingsdokument die Methode _incc(self,cat)_ aufgerufen.\n",
    "* Die Methode _fprob(self,f,cat)_ berechnet die bedingte Wahrscheinlichkeit $P(f | cat)$ des Wortes _f_ in der Kategorie _cat_ entsprechend der oben angegebenen Formeln, indem sie den aktuellen Stand des Zählers _fc(f,cat)_ durch den aktuellen Stand des Zählers _cc(cat)_ teilt.   \n",
    "* Die Methode _fprob(self,f,cat)_ liefert evtl. ungewollt extreme Ergebnisse, wenn noch wenig Wörter im Klassifizierer verbucht sind. Kommt z.B. ein Wort erst einmal in den Trainingsdaten vor, so wird seine Auftrittswahrscheinlichkeit in der Kategorie in welcher es nicht vorkommt gleich 0 sein. Um extreme Wahrscheinlichkeitswerte im Fall noch selten vorkommender Werte zu vermeiden, soll zusätzlich zur Methode _fprob(self,f,cat)_ die Methode _weightedprob(self,f,cat)_ implementiert und angewandt werden. Der von ihr zurückgegebene Wahrscheinlichkeitswert könnte z.B. wie folgt berechnet werden:$$wprob=\\frac{initprob+count \\cdot fprob(self,f,cat)}{1+count},$$ wobei $initprob$ ein initialer Wahrscheinlichkeitswert (z.B. 0.5) ist, welcher zurückgegeben werden soll, wenn das Wort noch nicht in den Trainingsdaten aufgetaucht ist. Die Variable $count$ zählt wie oft das Wort $f$ bisher in den Trainingsdaten auftrat. Wie zu erkennen ist, nimmt der Einfluss der initialen Wahrscheinlichkeit ab, je häufiger das Wort in den Trainingsdaten auftrat.\n",
    "* Nach dem Training soll ein beliebiges neues Dokument (Text-String) eingegeben werden können. Für dieses soll mit der Methode _prob(self,item,cat)_ die a-posteriori-Wahrscheinlichkeit $P(cat|item)$ (Aufgrund der Vernachlässigung der Evidenz handelt es sich hierbei genaugenommen um das Produkt aus a-posteriori-Wahrscheinlichkeit und Evidenz), mit der das Dokument _item_ in die Kategorie _cat_ fällt berechnet werden. Innerhalb der Methode _prob(self,item,cat)_ soll zunächst die Methode _weightedprob(self,f,cat)_ für alle Wörter $f$ im Dokument _item_ aufgerufen werden. Die jeweiligen Rückgabewerte von _weightedprob(self,f,cat)_ werden multipliziert. Das Produkt der Rückgabewerte von _weightedprob(self,f,cat)_ über alle Wörter $f$ im Dokument muss schließlich noch mit der a-priori Wahrscheinlichkeit $P(G)$ bzw. $P(B)$ entsprechend der oben aufgeführten Formeln multipliziert werden. Das Resultat des Produkts wird an das aufrufende Programm zurück gegeben, die Evidenz wird also vernachlässigt (wie oben begründet).\n",
    "\n",
    "\n",
    "\n",
    "Ein Dokument _item_ wird schließlich der Kategorie _cat_ zugeteilt, für welche die Funktion _prob(self,item,cat)_ den höheren Wert zurück gibt. Da die Rückgabewerte in der Regel sehr klein sind, werden in der Regel folgende Werte angezeigt:\n",
    "* Wenn mit $g$ der Rückgabewert von _prob(self,item,cat=G)_ und mit $b$ der Rückgabewert von _prob(self,item,cat=B)_ bezeichnet wird dann ist die Wahrscheinlichkeit, dass $item$ in die Kategorie $G$ fällt, gleich:\n",
    "$$\n",
    "\\frac{g}{g+b}\n",
    "$$\n",
    "* und die Wahrscheinlichkeit, dass $item$ in die Kategorie $B$ fällt, gleich:\n",
    "$$\n",
    "\\frac{b}{g+b}\n",
    "$$"
   ]
  },
  {
   "cell_type": "code",
   "execution_count": 4,
   "metadata": {},
   "outputs": [],
   "source": [
    "class Classifier:\n",
    "    categories = []\n",
    "    \n",
    "    def __init__(self, getfeatures, categories):\n",
    "        self.categories = categories\n",
    "        self.cc = {}\n",
    "        for category in self.categories:\n",
    "            self.cc[category] = 0\n",
    "        self.fc = {}\n",
    "        self.getfeatures = getfeatures\n",
    "    \n",
    "    def incf(self, cat, w, count):\n",
    "        if w in self.fc.keys():\n",
    "            if cat in self.fc[w].keys():\n",
    "                self.fc[w][cat] += count \n",
    "            else:\n",
    "                self.fc[w][cat] = count \n",
    "        elif w not in self.fc.keys():\n",
    "            self.fc[w] = {}\n",
    "            for category in self.categories:\n",
    "                self.fc[w][category] = 0\n",
    "\n",
    "            self.fc[w][cat] += count       \n",
    "\n",
    "    def incc(self, cat):\n",
    "        self.cc[cat] += 1\n",
    "\n",
    "    def fcount(self, cat, w):\n",
    "        if w in self.fc.keys():\n",
    "            x = self.fc[w][cat]\n",
    "        else:\n",
    "            x = 0\n",
    "        return x\n",
    "        \n",
    "    def catcount(self, cat):\n",
    "        return self.cc[cat]\n",
    "\n",
    "    def totalcount(self):\n",
    "        return sum(self.cc.values())\n",
    "\n",
    "    def train(self, item, cat):\n",
    "        word_dict = self.getfeatures(item)\n",
    "        for key in word_dict.keys():\n",
    "            self.incf(cat, key, word_dict[key])\n",
    "        self.incc(cat)\n",
    "    \n",
    "    def fprob(self, cat, w):\n",
    "        x = self.fcount(cat, w)/self.catcount(cat)\n",
    "        return x\n",
    "\n",
    "    def weightedprob(self, cat, w):\n",
    "        fProb = self.fprob(cat, w)\n",
    "        initProb = 0.5\n",
    "        count = 0\n",
    "        for value in self.categories:\n",
    "            count += self.fcount(value, w)\n",
    "        \n",
    "        x = (initProb + count*fProb)/ (1+count)\n",
    "        return x\n",
    "    \n",
    "    def prob(self, item, cat):\n",
    "        word_dict = self.getfeatures(item) \n",
    "        prodProb = 1\n",
    "        for value in word_dict:\n",
    "            prodProb *= self.weightedprob(cat, value)\n",
    "        catCount = self.catcount(cat)\n",
    "        totCount = self.totalcount()\n",
    "        apriori = catCount/totCount\n",
    "        x = prodProb*apriori\n",
    "        return x\n",
    "\n",
    "    def decision(self,item):\n",
    "        g = self.prob(item, self.categories[0])\n",
    "        b = self.prob(item, self.categories[1])\n",
    "        good = g/(g+b)\n",
    "        bad = b/(g+b)\n",
    "        result = ''\n",
    "        if b < g:\n",
    "            print(f\"der Text gehört mit einer Wahrscheinlichkeit von {good} zu der Kategorie '{self.categories[0]}'\")\n",
    "            result = self.categories[0]\n",
    "        else:\n",
    "            print(f\"der Text gehört mit einer Wahrscheinlichkeit von {bad} zu der Kategorie '{self.categories[1]}'\")\n",
    "            result = self.categories[1]\n",
    "        return result"
   ]
  },
  {
   "cell_type": "markdown",
   "metadata": {},
   "source": [
    "## Test\n",
    "\n",
    "**Aufgabe:**\n",
    "Instanzieren Sie ein Objekt der Klasse _Classifier_ und übergeben Sie der _train()_ Methode dieser Klasse mindestens 8 kategorisierte Dokumente (Betreffzeilen als Stringvariablen zusammen mit der Kategorie Good oder Bad). Definieren Sie dann ein beliebig neues Dokument und berechnen Sie für dieses die Kategorie, in welches es mit größter Wahrscheinlichkeit fällt. Benutzen Sie für den Test das in der\n",
    "[NLP Vorlesung Document Classification](https://griesshaber.pages.mi.hdm-stuttgart.de/nlp/06classification/07classificationNaiveBayes.html)\n",
    "ausführlich beschriebene Beispiel zu implementieren. Berechnen Sie die Klassifikatorausgabe des Satzes _the money jumps_."
   ]
  },
  {
   "cell_type": "code",
   "execution_count": 5,
   "metadata": {},
   "outputs": [],
   "source": [
    "data = pd.read_csv('./Data/train.csv',index_col=0)\n",
    "\n",
    "data = data[data['text'].notna()]\n",
    "\n",
    "cats = []\n",
    "for value in data[\"label\"]:\n",
    "    if(value == 0):\n",
    "        cats.append(\"Good\")\n",
    "    else:\n",
    "        cats.append(\"Bad\")\n",
    "\n",
    "data[\"category\"] = cats"
   ]
  },
  {
   "cell_type": "code",
   "execution_count": 6,
   "metadata": {
    "scrolled": true
   },
   "outputs": [],
   "source": [
    "test_data = data.head(10000)\n",
    "category = [\"Good\", \"Bad\"]\n",
    "classifier = Classifier(getwords, category)\n",
    "classifier_mod = Classifier(getwordsmodified, category)\n",
    "\n",
    "texts = []\n",
    "cats = []\n",
    "for value in test_data[\"text\"]:\n",
    "    texts.append(value)\n",
    "\n",
    "for value in test_data[\"category\"]:\n",
    "    cats.append(value)\n",
    "\n",
    "for i in range(0,50):\n",
    "    classifier.train(texts[i], cats[i])\n",
    "\n",
    "for i in range(0,50):\n",
    "    classifier_mod.train(texts[i], cats[i])\n"
   ]
  },
  {
   "cell_type": "code",
   "execution_count": 7,
   "metadata": {},
   "outputs": [
    {
     "name": "stdout",
     "output_type": "stream",
     "text": [
      "der Text gehört mit einer Wahrscheinlichkeit von 0.7091537106296171 zu der Kategorie 'Good'\n",
      "der Text gehört mit einer Wahrscheinlichkeit von 0.6736648675294423 zu der Kategorie 'Good'\n"
     ]
    },
    {
     "data": {
      "text/plain": [
       "'Good'"
      ]
     },
     "execution_count": 7,
     "metadata": {},
     "output_type": "execute_result"
    }
   ],
   "source": [
    "test_string = \"The money jumps.\"\n",
    "\n",
    "classifier.decision(test_string)\n",
    "classifier_mod.decision(test_string)"
   ]
  },
  {
   "cell_type": "markdown",
   "metadata": {},
   "source": [
    "## Klassifikation von RSS Newsfeeds\n",
    "Mit dem unten gegebenen Skript werden Nachrichten verschiedener Newsserver geladen und ausgegeben. Ändern Sie diese Methode ab, damit diese Strings gespeichert werden und für ein Training benutzt werden können. \n"
   ]
  },
  {
   "cell_type": "code",
   "execution_count": 8,
   "metadata": {},
   "outputs": [
    {
     "name": "stdout",
     "output_type": "stream",
     "text": [
      "Number of used trainings samples in categorie tech 160\n",
      "Number of used trainings samples in categorie notech 112\n",
      "Number of used test samples 85\n",
      "------------------------------------------------------------\n"
     ]
    }
   ],
   "source": [
    "def countFeed(feedList, title, should_print=False):\n",
    "    if should_print:\n",
    "        print(f\"--------------------News from {title}------------------------\")\n",
    "    count = 0\n",
    "    for feed in feedList:\n",
    "        if should_print:\n",
    "            print()\n",
    "            print(\"*\"*30)\n",
    "            print(feed)\n",
    "        f=feedparser.parse(feed)\n",
    "        for e in f.entries:\n",
    "            if hasattr(e, 'title') and hasattr(e, 'description'):\n",
    "                if should_print:\n",
    "                    print('\\n---------------------------')\n",
    "                fulltext=stripHTML(e.title+' '+e.description)\n",
    "                if should_print:\n",
    "                    print(fulltext)\n",
    "                count += 1\n",
    "    if should_print:\n",
    "        print(\"----------------------------------------------------------------\")\n",
    "        print(\"----------------------------------------------------------------\")\n",
    "        print(\"----------------------------------------------------------------\")\n",
    "    return count\n",
    "\n",
    "# Unsere Funktion zum Abspeichern der Strings\n",
    "def getTextFeed(feedList, title, cat):\n",
    "    text = {}\n",
    "    for feed in feedList:\n",
    "        if(feed == 'http://rss.golem.de/rss.php?r=sw&feed=RSS0.91'):\n",
    "            cat = 'Tech'\n",
    "        elif(feed == 'http://www.welt.de/?service=Rss' or feed == 'http://newsfeed.zeit.de/politik/index'):\n",
    "            cat = 'NonTech'\n",
    "        f=feedparser.parse(feed)\n",
    "        for e in f.entries:\n",
    "            if hasattr(e, 'title') and hasattr(e, 'description'):\n",
    "                fulltext=stripHTML(e.title+' '+e.description)\n",
    "                text[fulltext] = cat\n",
    "    return text\n",
    "                \n",
    "def stripHTML(h):\n",
    "    p=''\n",
    "    s=0\n",
    "    for c in h:\n",
    "        if c=='<': \n",
    "            s=1\n",
    "        elif c=='>':\n",
    "            s=0\n",
    "            p+=' '\n",
    "        elif s==0:\n",
    "            p+=c\n",
    "    return p\n",
    "\n",
    "trainTech=['http://rss.chip.de/c/573/f/7439/index.rss',\n",
    "           #'http://feeds.feedburner.com/netzwelt',\n",
    "           'http://rss1.t-online.de/c/11/53/06/84/11530684.xml',\n",
    "           'http://www.computerbild.de/rssfeed_2261.xml?node=13',\n",
    "           'http://www.heise.de/newsticker/heise-top-atom.xml']\n",
    "\n",
    "trainNonTech=['http://newsfeed.zeit.de/index',\n",
    "              'http://newsfeed.zeit.de/wirtschaft/index',\n",
    "              'http://www.welt.de/politik/?service=Rss',\n",
    "              'http://www.spiegel.de/schlagzeilen/tops/index.rss',\n",
    "              'https://rss.sueddeutsche.de/alles',\n",
    "              'http://www.faz.net/rss/aktuell/']\n",
    "\n",
    "test=['http://rss.golem.de/rss.php?r=sw&feed=RSS0.91',\n",
    "      'http://newsfeed.zeit.de/politik/index',  \n",
    "      'http://www.welt.de/?service=Rss']\n",
    "\n",
    "countnews={}\n",
    "countnews['tech']=countFeed(trainTech, 'trainTech')\n",
    "countnews['nontech']=countFeed(trainNonTech, 'trainNonTech')\n",
    "countnews['test']=countFeed(test, 'test')\n",
    "\n",
    "print('Number of used trainings samples in categorie tech',countnews['tech'])\n",
    "print('Number of used trainings samples in categorie notech',countnews['nontech'])\n",
    "print('Number of used test samples',countnews['test'])\n",
    "print('--'*30)\n",
    "\n",
    "news_text={}\n",
    "news_text['tech'] = {}\n",
    "news_text['nontech'] = {}\n",
    "news_text['test'] = {}\n",
    "news_text['tech'] = getTextFeed(trainTech, 'trainTech', 'Tech')\n",
    "news_text['nontech'] = getTextFeed(trainNonTech, 'trainNonTech', 'NonTech')\n",
    "news_text['test'] = getTextFeed(test, 'test','')\n"
   ]
  },
  {
   "cell_type": "markdown",
   "metadata": {},
   "source": [
    "**Aufgaben:**\n",
    "1. Trainieren Sie Ihren Naive Bayes Classifier mit allen Nachrichten der in den Listen _trainTech_ und _trainNonTech_ definierten Servern. Weisen Sie für das Training allen Nachrichten aus _trainTech_ die Kategorie _Tech_ und allen Nachrichten aus _trainNonTech_ die Kategorie _NonTech_ zu."
   ]
  },
  {
   "cell_type": "code",
   "execution_count": 9,
   "metadata": {
    "scrolled": true
   },
   "outputs": [],
   "source": [
    "categories = [\"Tech\", \"NonTech\"]\n",
    "\n",
    "classifier_rss = Classifier(getwords, categories)\n",
    "classifier_rss_mod = Classifier(getwordsmodified, categories)\n",
    "\n",
    "tech_texts = []\n",
    "\n",
    "tech_texts = news_text['tech'].keys()\n",
    "nontech_texts = news_text['nontech'].keys()\n",
    "test_texts = news_text['test'].keys()\n",
    "\n",
    "for text in tech_texts:\n",
    "    classifier_rss.train(text, \"Tech\")\n",
    "for text in nontech_texts:\n",
    "    classifier_rss.train(text, \"NonTech\")\n",
    "\n",
    "for text in tech_texts:\n",
    "    classifier_rss_mod.train(text, \"Tech\")\n",
    "for text in nontech_texts:\n",
    "    classifier_rss_mod.train(text, \"NonTech\")"
   ]
  },
  {
   "cell_type": "markdown",
   "metadata": {},
   "source": [
    "2. Nach dem Training sollen alle Nachrichten aus der Liste _test_ vom Naive Bayes Classifier automatisch klassifiziert werden. Gehen Sie davon aus, dass alle Nachrichten von [http://rss.golem.de/rss.php?r=sw&feed=RSS0.91](http://rss.golem.de/rss.php?r=sw&feed=RSS0.91) tatsächlich von der Kategorie _Tech_ sind und alle Nachrichten von den beiden anderen Servern in der Liste _test_ von der Kategorie _NonTech_ sind. Bestimmen Sie die _Konfusionsmatrix_ und die _Accuracy_ sowie für beide Klassen _Precision, Recall_ und _F1-Score_. Diese Qualitätsmetriken sind z.B. in [NLP Vorlesung Document Classification](https://griesshaber.pages.mi.hdm-stuttgart.de/nlp/06classification/06classificationMetrics.html) definiert."
   ]
  },
  {
   "cell_type": "code",
   "execution_count": 10,
   "metadata": {},
   "outputs": [
    {
     "name": "stdout",
     "output_type": "stream",
     "text": [
      "der Text gehört mit einer Wahrscheinlichkeit von 0.7470116570895722 zu der Kategorie 'Tech'\n",
      "der Text gehört mit einer Wahrscheinlichkeit von 0.8751788250716622 zu der Kategorie 'Tech'\n",
      "der Text gehört mit einer Wahrscheinlichkeit von 0.8553415325242375 zu der Kategorie 'Tech'\n",
      "der Text gehört mit einer Wahrscheinlichkeit von 0.8294544273775697 zu der Kategorie 'NonTech'\n",
      "der Text gehört mit einer Wahrscheinlichkeit von 0.5163192104775137 zu der Kategorie 'Tech'\n",
      "der Text gehört mit einer Wahrscheinlichkeit von 0.8352956084750958 zu der Kategorie 'Tech'\n",
      "der Text gehört mit einer Wahrscheinlichkeit von 0.9450407224894163 zu der Kategorie 'Tech'\n",
      "der Text gehört mit einer Wahrscheinlichkeit von 0.5283818934056956 zu der Kategorie 'Tech'\n",
      "der Text gehört mit einer Wahrscheinlichkeit von 0.5846404779895729 zu der Kategorie 'NonTech'\n",
      "der Text gehört mit einer Wahrscheinlichkeit von 0.8691501952019905 zu der Kategorie 'Tech'\n",
      "der Text gehört mit einer Wahrscheinlichkeit von 0.9302964968707552 zu der Kategorie 'Tech'\n",
      "der Text gehört mit einer Wahrscheinlichkeit von 0.6141962051293272 zu der Kategorie 'Tech'\n",
      "der Text gehört mit einer Wahrscheinlichkeit von 0.8311600856291202 zu der Kategorie 'Tech'\n",
      "der Text gehört mit einer Wahrscheinlichkeit von 0.7784498629353765 zu der Kategorie 'Tech'\n",
      "der Text gehört mit einer Wahrscheinlichkeit von 0.791402719335588 zu der Kategorie 'Tech'\n",
      "der Text gehört mit einer Wahrscheinlichkeit von 0.5461422660641967 zu der Kategorie 'NonTech'\n",
      "der Text gehört mit einer Wahrscheinlichkeit von 0.8416739616776868 zu der Kategorie 'Tech'\n",
      "der Text gehört mit einer Wahrscheinlichkeit von 0.8581565677568955 zu der Kategorie 'Tech'\n",
      "der Text gehört mit einer Wahrscheinlichkeit von 0.6627190731166867 zu der Kategorie 'Tech'\n",
      "der Text gehört mit einer Wahrscheinlichkeit von 0.5902878542120017 zu der Kategorie 'Tech'\n",
      "der Text gehört mit einer Wahrscheinlichkeit von 0.7172574949127314 zu der Kategorie 'NonTech'\n",
      "der Text gehört mit einer Wahrscheinlichkeit von 0.558556043593832 zu der Kategorie 'Tech'\n",
      "der Text gehört mit einer Wahrscheinlichkeit von 0.9074405964721484 zu der Kategorie 'Tech'\n",
      "der Text gehört mit einer Wahrscheinlichkeit von 0.6294199928899469 zu der Kategorie 'Tech'\n",
      "der Text gehört mit einer Wahrscheinlichkeit von 0.6243827100030969 zu der Kategorie 'Tech'\n",
      "der Text gehört mit einer Wahrscheinlichkeit von 0.5704298998296224 zu der Kategorie 'NonTech'\n",
      "der Text gehört mit einer Wahrscheinlichkeit von 0.688241702452492 zu der Kategorie 'Tech'\n",
      "der Text gehört mit einer Wahrscheinlichkeit von 0.7068906829060909 zu der Kategorie 'Tech'\n",
      "der Text gehört mit einer Wahrscheinlichkeit von 0.7310659414368621 zu der Kategorie 'Tech'\n",
      "der Text gehört mit einer Wahrscheinlichkeit von 0.7533860736063082 zu der Kategorie 'Tech'\n",
      "der Text gehört mit einer Wahrscheinlichkeit von 0.5342922760167784 zu der Kategorie 'Tech'\n",
      "der Text gehört mit einer Wahrscheinlichkeit von 0.7272632790076626 zu der Kategorie 'NonTech'\n",
      "der Text gehört mit einer Wahrscheinlichkeit von 0.617292494304268 zu der Kategorie 'NonTech'\n",
      "der Text gehört mit einer Wahrscheinlichkeit von 0.8700011823722673 zu der Kategorie 'Tech'\n",
      "der Text gehört mit einer Wahrscheinlichkeit von 0.8614584018460995 zu der Kategorie 'Tech'\n",
      "der Text gehört mit einer Wahrscheinlichkeit von 0.5646830598038004 zu der Kategorie 'NonTech'\n",
      "der Text gehört mit einer Wahrscheinlichkeit von 0.9374735543585666 zu der Kategorie 'Tech'\n",
      "der Text gehört mit einer Wahrscheinlichkeit von 0.8325428061713774 zu der Kategorie 'Tech'\n",
      "der Text gehört mit einer Wahrscheinlichkeit von 0.648178281771468 zu der Kategorie 'NonTech'\n",
      "der Text gehört mit einer Wahrscheinlichkeit von 0.5235925218022912 zu der Kategorie 'NonTech'\n",
      "der Text gehört mit einer Wahrscheinlichkeit von 0.5520048087021762 zu der Kategorie 'NonTech'\n",
      "der Text gehört mit einer Wahrscheinlichkeit von 0.7158905227479239 zu der Kategorie 'NonTech'\n",
      "der Text gehört mit einer Wahrscheinlichkeit von 0.6807561583943728 zu der Kategorie 'NonTech'\n",
      "der Text gehört mit einer Wahrscheinlichkeit von 0.8300539717902111 zu der Kategorie 'NonTech'\n",
      "der Text gehört mit einer Wahrscheinlichkeit von 0.8229572518158436 zu der Kategorie 'NonTech'\n",
      "der Text gehört mit einer Wahrscheinlichkeit von 0.8211439447183231 zu der Kategorie 'NonTech'\n",
      "der Text gehört mit einer Wahrscheinlichkeit von 0.9750000170358847 zu der Kategorie 'NonTech'\n",
      "der Text gehört mit einer Wahrscheinlichkeit von 0.6185180080127064 zu der Kategorie 'NonTech'\n",
      "der Text gehört mit einer Wahrscheinlichkeit von 0.673344044398911 zu der Kategorie 'NonTech'\n",
      "der Text gehört mit einer Wahrscheinlichkeit von 0.8262628691253184 zu der Kategorie 'NonTech'\n",
      "der Text gehört mit einer Wahrscheinlichkeit von 0.9128399043084294 zu der Kategorie 'NonTech'\n",
      "der Text gehört mit einer Wahrscheinlichkeit von 0.6511180397131398 zu der Kategorie 'NonTech'\n",
      "der Text gehört mit einer Wahrscheinlichkeit von 0.8283003433378662 zu der Kategorie 'NonTech'\n",
      "der Text gehört mit einer Wahrscheinlichkeit von 0.9099559656549263 zu der Kategorie 'NonTech'\n",
      "der Text gehört mit einer Wahrscheinlichkeit von 0.8677125341968794 zu der Kategorie 'NonTech'\n",
      "der Text gehört mit einer Wahrscheinlichkeit von 0.5094711180452024 zu der Kategorie 'NonTech'\n",
      "der Text gehört mit einer Wahrscheinlichkeit von 0.7860995077225511 zu der Kategorie 'NonTech'\n",
      "der Text gehört mit einer Wahrscheinlichkeit von 0.7803915135776756 zu der Kategorie 'NonTech'\n",
      "der Text gehört mit einer Wahrscheinlichkeit von 0.9741315873574531 zu der Kategorie 'NonTech'\n",
      "der Text gehört mit einer Wahrscheinlichkeit von 0.8681216714135253 zu der Kategorie 'NonTech'\n",
      "der Text gehört mit einer Wahrscheinlichkeit von 0.919455303749137 zu der Kategorie 'NonTech'\n",
      "der Text gehört mit einer Wahrscheinlichkeit von 0.993262932341211 zu der Kategorie 'NonTech'\n",
      "der Text gehört mit einer Wahrscheinlichkeit von 0.668604389986786 zu der Kategorie 'Tech'\n",
      "der Text gehört mit einer Wahrscheinlichkeit von 0.955473561099024 zu der Kategorie 'NonTech'\n",
      "der Text gehört mit einer Wahrscheinlichkeit von 0.9671535354372802 zu der Kategorie 'NonTech'\n",
      "der Text gehört mit einer Wahrscheinlichkeit von 0.8870479832539004 zu der Kategorie 'NonTech'\n",
      "der Text gehört mit einer Wahrscheinlichkeit von 0.9167617273696906 zu der Kategorie 'NonTech'\n",
      "der Text gehört mit einer Wahrscheinlichkeit von 0.9554365038117439 zu der Kategorie 'NonTech'\n",
      "der Text gehört mit einer Wahrscheinlichkeit von 0.9894849113929001 zu der Kategorie 'NonTech'\n",
      "der Text gehört mit einer Wahrscheinlichkeit von 0.7523682688383333 zu der Kategorie 'NonTech'\n",
      "der Text gehört mit einer Wahrscheinlichkeit von 0.977450154774539 zu der Kategorie 'NonTech'\n",
      "der Text gehört mit einer Wahrscheinlichkeit von 0.9408302754459001 zu der Kategorie 'NonTech'\n",
      "der Text gehört mit einer Wahrscheinlichkeit von 0.740084482058403 zu der Kategorie 'NonTech'\n",
      "der Text gehört mit einer Wahrscheinlichkeit von 0.9871508121377832 zu der Kategorie 'NonTech'\n",
      "der Text gehört mit einer Wahrscheinlichkeit von 0.869552274690339 zu der Kategorie 'NonTech'\n",
      "der Text gehört mit einer Wahrscheinlichkeit von 0.5454882175876837 zu der Kategorie 'Tech'\n",
      "der Text gehört mit einer Wahrscheinlichkeit von 0.9038651428551385 zu der Kategorie 'NonTech'\n",
      "der Text gehört mit einer Wahrscheinlichkeit von 0.87124030448151 zu der Kategorie 'NonTech'\n",
      "der Text gehört mit einer Wahrscheinlichkeit von 0.8798214660046928 zu der Kategorie 'NonTech'\n",
      "der Text gehört mit einer Wahrscheinlichkeit von 0.9661094849711382 zu der Kategorie 'NonTech'\n",
      "der Text gehört mit einer Wahrscheinlichkeit von 0.9839593873096176 zu der Kategorie 'NonTech'\n",
      "der Text gehört mit einer Wahrscheinlichkeit von 0.9905683969674864 zu der Kategorie 'NonTech'\n",
      "der Text gehört mit einer Wahrscheinlichkeit von 0.9906318077842546 zu der Kategorie 'NonTech'\n",
      "der Text gehört mit einer Wahrscheinlichkeit von 0.9637278001637277 zu der Kategorie 'NonTech'\n",
      "der Text gehört mit einer Wahrscheinlichkeit von 0.983107503618768 zu der Kategorie 'NonTech'\n",
      "der Text gehört mit einer Wahrscheinlichkeit von 0.7306143780347808 zu der Kategorie 'Tech'\n",
      "der Text gehört mit einer Wahrscheinlichkeit von 0.9125155415322237 zu der Kategorie 'Tech'\n",
      "der Text gehört mit einer Wahrscheinlichkeit von 0.9201699584631294 zu der Kategorie 'Tech'\n",
      "der Text gehört mit einer Wahrscheinlichkeit von 0.9310917282991098 zu der Kategorie 'NonTech'\n",
      "der Text gehört mit einer Wahrscheinlichkeit von 0.5478143343509693 zu der Kategorie 'NonTech'\n",
      "der Text gehört mit einer Wahrscheinlichkeit von 0.911496420697523 zu der Kategorie 'Tech'\n",
      "der Text gehört mit einer Wahrscheinlichkeit von 0.9722825615523271 zu der Kategorie 'Tech'\n",
      "der Text gehört mit einer Wahrscheinlichkeit von 0.5276482046128755 zu der Kategorie 'Tech'\n",
      "der Text gehört mit einer Wahrscheinlichkeit von 0.6942533595021916 zu der Kategorie 'NonTech'\n",
      "der Text gehört mit einer Wahrscheinlichkeit von 0.9138718313899041 zu der Kategorie 'Tech'\n",
      "der Text gehört mit einer Wahrscheinlichkeit von 0.9683800489416309 zu der Kategorie 'Tech'\n",
      "der Text gehört mit einer Wahrscheinlichkeit von 0.5394663799217626 zu der Kategorie 'NonTech'\n",
      "der Text gehört mit einer Wahrscheinlichkeit von 0.914114351951325 zu der Kategorie 'Tech'\n",
      "der Text gehört mit einer Wahrscheinlichkeit von 0.8096854974525034 zu der Kategorie 'Tech'\n",
      "der Text gehört mit einer Wahrscheinlichkeit von 0.7536710174672374 zu der Kategorie 'Tech'\n",
      "der Text gehört mit einer Wahrscheinlichkeit von 0.7296823377751627 zu der Kategorie 'NonTech'\n",
      "der Text gehört mit einer Wahrscheinlichkeit von 0.8329204676867342 zu der Kategorie 'Tech'\n",
      "der Text gehört mit einer Wahrscheinlichkeit von 0.8908828002576062 zu der Kategorie 'Tech'\n",
      "der Text gehört mit einer Wahrscheinlichkeit von 0.6868162668968743 zu der Kategorie 'Tech'\n",
      "der Text gehört mit einer Wahrscheinlichkeit von 0.6412879027619702 zu der Kategorie 'NonTech'\n",
      "der Text gehört mit einer Wahrscheinlichkeit von 0.9019078055218325 zu der Kategorie 'NonTech'\n",
      "der Text gehört mit einer Wahrscheinlichkeit von 0.5732708874981453 zu der Kategorie 'NonTech'\n",
      "der Text gehört mit einer Wahrscheinlichkeit von 0.9533960187311451 zu der Kategorie 'Tech'\n",
      "der Text gehört mit einer Wahrscheinlichkeit von 0.5082937779002282 zu der Kategorie 'NonTech'\n",
      "der Text gehört mit einer Wahrscheinlichkeit von 0.5294983662178855 zu der Kategorie 'Tech'\n",
      "der Text gehört mit einer Wahrscheinlichkeit von 0.7462751555655811 zu der Kategorie 'NonTech'\n",
      "der Text gehört mit einer Wahrscheinlichkeit von 0.8086456266884432 zu der Kategorie 'Tech'\n",
      "der Text gehört mit einer Wahrscheinlichkeit von 0.7231793912168781 zu der Kategorie 'Tech'\n",
      "der Text gehört mit einer Wahrscheinlichkeit von 0.6789360712879066 zu der Kategorie 'Tech'\n",
      "der Text gehört mit einer Wahrscheinlichkeit von 0.7055481237839917 zu der Kategorie 'Tech'\n",
      "der Text gehört mit einer Wahrscheinlichkeit von 0.5512403715623745 zu der Kategorie 'NonTech'\n",
      "der Text gehört mit einer Wahrscheinlichkeit von 0.8452053251757248 zu der Kategorie 'NonTech'\n",
      "der Text gehört mit einer Wahrscheinlichkeit von 0.7271871536797267 zu der Kategorie 'NonTech'\n",
      "der Text gehört mit einer Wahrscheinlichkeit von 0.9449501243850958 zu der Kategorie 'Tech'\n",
      "der Text gehört mit einer Wahrscheinlichkeit von 0.9058297828682816 zu der Kategorie 'Tech'\n",
      "der Text gehört mit einer Wahrscheinlichkeit von 0.6369486367389691 zu der Kategorie 'NonTech'\n",
      "der Text gehört mit einer Wahrscheinlichkeit von 0.9668843993821046 zu der Kategorie 'Tech'\n",
      "der Text gehört mit einer Wahrscheinlichkeit von 0.8182106210107798 zu der Kategorie 'Tech'\n",
      "der Text gehört mit einer Wahrscheinlichkeit von 0.7646973824829048 zu der Kategorie 'NonTech'\n",
      "der Text gehört mit einer Wahrscheinlichkeit von 0.6217284846385529 zu der Kategorie 'NonTech'\n",
      "der Text gehört mit einer Wahrscheinlichkeit von 0.6412978802833171 zu der Kategorie 'NonTech'\n",
      "der Text gehört mit einer Wahrscheinlichkeit von 0.73851153667171 zu der Kategorie 'NonTech'\n",
      "der Text gehört mit einer Wahrscheinlichkeit von 0.8648318619266112 zu der Kategorie 'NonTech'\n",
      "der Text gehört mit einer Wahrscheinlichkeit von 0.9010049389697183 zu der Kategorie 'NonTech'\n",
      "der Text gehört mit einer Wahrscheinlichkeit von 0.8467176653974233 zu der Kategorie 'NonTech'\n",
      "der Text gehört mit einer Wahrscheinlichkeit von 0.8670633914950305 zu der Kategorie 'NonTech'\n",
      "der Text gehört mit einer Wahrscheinlichkeit von 0.9925524183983513 zu der Kategorie 'NonTech'\n",
      "der Text gehört mit einer Wahrscheinlichkeit von 0.806101373308649 zu der Kategorie 'NonTech'\n",
      "der Text gehört mit einer Wahrscheinlichkeit von 0.6963330364803362 zu der Kategorie 'NonTech'\n",
      "der Text gehört mit einer Wahrscheinlichkeit von 0.9273246363956075 zu der Kategorie 'NonTech'\n",
      "der Text gehört mit einer Wahrscheinlichkeit von 0.9657589407872228 zu der Kategorie 'NonTech'\n",
      "der Text gehört mit einer Wahrscheinlichkeit von 0.7146797888712071 zu der Kategorie 'NonTech'\n",
      "der Text gehört mit einer Wahrscheinlichkeit von 0.8695565309157581 zu der Kategorie 'NonTech'\n",
      "der Text gehört mit einer Wahrscheinlichkeit von 0.942816004434807 zu der Kategorie 'NonTech'\n",
      "der Text gehört mit einer Wahrscheinlichkeit von 0.9174648799027835 zu der Kategorie 'NonTech'\n",
      "der Text gehört mit einer Wahrscheinlichkeit von 0.5230312291513322 zu der Kategorie 'NonTech'\n",
      "der Text gehört mit einer Wahrscheinlichkeit von 0.8326989173743977 zu der Kategorie 'NonTech'\n",
      "der Text gehört mit einer Wahrscheinlichkeit von 0.7890746069800737 zu der Kategorie 'NonTech'\n",
      "der Text gehört mit einer Wahrscheinlichkeit von 0.9831224621606769 zu der Kategorie 'NonTech'\n",
      "der Text gehört mit einer Wahrscheinlichkeit von 0.9112923905621154 zu der Kategorie 'NonTech'\n",
      "der Text gehört mit einer Wahrscheinlichkeit von 0.9590763371831875 zu der Kategorie 'NonTech'\n",
      "der Text gehört mit einer Wahrscheinlichkeit von 0.9942106400071112 zu der Kategorie 'NonTech'\n",
      "der Text gehört mit einer Wahrscheinlichkeit von 0.6703799633185489 zu der Kategorie 'Tech'\n",
      "der Text gehört mit einer Wahrscheinlichkeit von 0.9901793105505565 zu der Kategorie 'NonTech'\n",
      "der Text gehört mit einer Wahrscheinlichkeit von 0.9776186572976067 zu der Kategorie 'NonTech'\n",
      "der Text gehört mit einer Wahrscheinlichkeit von 0.9079129806857376 zu der Kategorie 'NonTech'\n",
      "der Text gehört mit einer Wahrscheinlichkeit von 0.9395469330182691 zu der Kategorie 'NonTech'\n",
      "der Text gehört mit einer Wahrscheinlichkeit von 0.9759271154964502 zu der Kategorie 'NonTech'\n",
      "der Text gehört mit einer Wahrscheinlichkeit von 0.9943839458698396 zu der Kategorie 'NonTech'\n",
      "der Text gehört mit einer Wahrscheinlichkeit von 0.8134250875084957 zu der Kategorie 'NonTech'\n",
      "der Text gehört mit einer Wahrscheinlichkeit von 0.9874585099738918 zu der Kategorie 'NonTech'\n",
      "der Text gehört mit einer Wahrscheinlichkeit von 0.9713540885415862 zu der Kategorie 'NonTech'\n",
      "der Text gehört mit einer Wahrscheinlichkeit von 0.8752209201809157 zu der Kategorie 'NonTech'\n",
      "der Text gehört mit einer Wahrscheinlichkeit von 0.9926782938973557 zu der Kategorie 'NonTech'\n",
      "der Text gehört mit einer Wahrscheinlichkeit von 0.93453077954124 zu der Kategorie 'NonTech'\n",
      "der Text gehört mit einer Wahrscheinlichkeit von 0.6000008652916976 zu der Kategorie 'Tech'\n",
      "der Text gehört mit einer Wahrscheinlichkeit von 0.9582430496632321 zu der Kategorie 'NonTech'\n",
      "der Text gehört mit einer Wahrscheinlichkeit von 0.8368948782771842 zu der Kategorie 'NonTech'\n",
      "der Text gehört mit einer Wahrscheinlichkeit von 0.9309181521944097 zu der Kategorie 'NonTech'\n",
      "der Text gehört mit einer Wahrscheinlichkeit von 0.97797114910743 zu der Kategorie 'NonTech'\n",
      "der Text gehört mit einer Wahrscheinlichkeit von 0.9921398091955662 zu der Kategorie 'NonTech'\n",
      "der Text gehört mit einer Wahrscheinlichkeit von 0.9985324831482844 zu der Kategorie 'NonTech'\n",
      "der Text gehört mit einer Wahrscheinlichkeit von 0.9916120354118886 zu der Kategorie 'NonTech'\n",
      "der Text gehört mit einer Wahrscheinlichkeit von 0.984799404596203 zu der Kategorie 'NonTech'\n",
      "der Text gehört mit einer Wahrscheinlichkeit von 0.9824515606311323 zu der Kategorie 'NonTech'\n"
     ]
    }
   ],
   "source": [
    "pred_cat = []\n",
    "test_true = []\n",
    "pred_cat_mod = []\n",
    "test_true_mod = []\n",
    "\n",
    "for text in test_texts:\n",
    "    test_true.append(news_text['test'][text])\n",
    "    pred_cat.append(classifier_rss.decision(text))\n",
    "    \n",
    "for text in test_texts:\n",
    "    test_true_mod.append(news_text['test'][text])\n",
    "    pred_cat_mod.append(classifier_rss_mod.decision(text))"
   ]
  },
  {
   "cell_type": "code",
   "execution_count": 11,
   "metadata": {},
   "outputs": [
    {
     "data": {
      "image/png": "[encoded data removed]",
      "text/plain": [
       "<Figure size 640x480 with 2 Axes>"
      ]
     },
     "metadata": {},
     "output_type": "display_data"
    }
   ],
   "source": [
    "cm = confusion_matrix(test_true, pred_cat)\n",
    "disp = ConfusionMatrixDisplay(confusion_matrix=cm)\n",
    "\n",
    "disp.plot()\n",
    "\n",
    "plt.show()\n",
    "# TP | FN\n",
    "#--------\n",
    "# FP | TN"
   ]
  },
  {
   "cell_type": "code",
   "execution_count": 12,
   "metadata": {},
   "outputs": [
    {
     "data": {
      "image/png": "[encoded data removed]",
      "text/plain": [
       "<Figure size 640x480 with 2 Axes>"
      ]
     },
     "metadata": {},
     "output_type": "display_data"
    }
   ],
   "source": [
    "cm_mod = confusion_matrix(test_true_mod, pred_cat_mod)\n",
    "disp = ConfusionMatrixDisplay(confusion_matrix=cm_mod)\n",
    "\n",
    "disp.plot()\n",
    "\n",
    "plt.show()"
   ]
  },
  {
   "cell_type": "code",
   "execution_count": 13,
   "metadata": {},
   "outputs": [],
   "source": [
    "# Bestimmen Sie die Konfusionsmatrix und die Accuracy sowie für beide Klassen Precision, Recall und F1-Score. \n",
    "# Accuracy\n",
    "# True Tech + True NonTech / alles\n",
    "acc = (cm[0][0] + cm[1][1])/sum(sum(cm))\n",
    "\n",
    "# Tech\n",
    "    # Precision: True Tech / (True Tech + False Tech)\n",
    "prec_tech = cm[0][0] / (cm[0][0] + cm[1][0])\n",
    "    # Recall: True Tech / (True Tech + Flase NonTech)\n",
    "recall_tech = cm[0][0] / (cm[0][0] + cm[0][1])\n",
    "    # F1-Score: 2* Precision * Recall / (Precision + Recall)\n",
    "f1_tech = 2*((prec_tech*recall_tech)/(prec_tech + recall_tech))\n",
    "\n",
    "# NonTech\n",
    "    # Precision: True NonTech / (True NonTech + False NonTech)\n",
    "prec_nonTech = cm[1][1] / (cm[1][1] + cm[0][1])\n",
    "    # Recall: True NonTech / (True NonTech + False Tech)\n",
    "recall_nonTech = cm[1][1] / (cm[1][1] + cm[1][0])\n",
    "    # F1-Score: 2* Precision * Recall / (Precision + Recall)\n",
    "f1_nonTech = 2*((prec_nonTech*recall_nonTech)/(prec_nonTech + recall_nonTech))"
   ]
  },
  {
   "cell_type": "code",
   "execution_count": 14,
   "metadata": {},
   "outputs": [
    {
     "name": "stdout",
     "output_type": "stream",
     "text": [
      "Accuracy: 0.8588235294117647\n",
      "--------Tech---------\n",
      "Precision: 0.8113207547169812\n",
      "Recall: 0.9555555555555556\n",
      "F1-Score: 0.8775510204081634\n",
      "-------NonTech-------\n",
      "Precision: 0.9375\n",
      "Recall: 0.75\n",
      "F1-Score: 0.8333333333333334\n"
     ]
    }
   ],
   "source": [
    "print(f\"Accuracy: {acc}\")\n",
    "print(\"--------Tech---------\")\n",
    "print(f\"Precision: {prec_tech}\")\n",
    "print(f\"Recall: {recall_tech}\")\n",
    "print(f\"F1-Score: {f1_tech}\")\n",
    "print(\"-------NonTech-------\")\n",
    "print(f\"Precision: {prec_nonTech}\")\n",
    "print(f\"Recall: {recall_nonTech}\")\n",
    "print(f\"F1-Score: {f1_nonTech}\")"
   ]
  },
  {
   "cell_type": "markdown",
   "metadata": {},
   "source": [
    "3. Diskutieren Sie das Ergebnis."
   ]
  },
  {
   "cell_type": "markdown",
   "metadata": {},
   "source": [
    "* Trotz der Vernachlässigung der Semantik im Dokument ergibt sich eine Accuracy von 71,76%\n",
    "* Die Precision ist für nonTech Artikel besser als für Tech, der Classifier ist bei non Tech Artikel zuverlässiger\n",
    "* Der Recall für Tech ist besser als für nonTech, Tech Artikel werden öfter erkannt als nonTech Artikel\n",
    "* Der F1-Score ist bei Kategorie Tech höher als bei nonTech. Der Classifier ist besser angepasst auf Tech Artikel\n",
    "* Die Trainings Daten habe 160 Tech Dokumente und 105 nonTech Dokumente, somit ist der Classifier besser auf Tech Dokumente trainiert"
   ]
  },
  {
   "cell_type": "markdown",
   "metadata": {},
   "source": [
    "4. Wie könnte die Klassifikationsgüte durch Modifikation der *getwords()*-Methode verbessert werden? Implementieren Sie diesen Ansatz und vergleichen Sie das Ergebnis mit dem des ersten Ansatzes."
   ]
  },
  {
   "cell_type": "code",
   "execution_count": 15,
   "metadata": {},
   "outputs": [],
   "source": [
    "# Accuracy\n",
    "# True Tech + True NonTech / alles\n",
    "acc_mod = (cm_mod[0][0] + cm_mod[1][1])/sum(sum(cm_mod))\n",
    "\n",
    "# Tech\n",
    "    # Precision: True Tech / (True Tech + False Tech)\n",
    "prec_tech_mod = cm_mod[0][0] / (cm_mod[0][0] + cm_mod[1][0])\n",
    "    # Recall: True Tech / (True Tech + Flase NonTech)\n",
    "recall_tech_mod = cm_mod[0][0] / (cm_mod[0][0] + cm_mod[0][1])\n",
    "    # F1-Score: 2* Precision * Recall / (Precision + Recall)\n",
    "f1_tech_mod = 2*((prec_tech_mod*recall_tech_mod)/(prec_tech_mod + recall_tech_mod))\n",
    "\n",
    "# NonTech\n",
    "    # Precision: True NonTech / (True NonTech + False NonTech)\n",
    "prec_nonTech_mod = cm_mod[1][1] / (cm_mod[1][1] + cm_mod[0][1])\n",
    "    # Recall: True NonTech / (True NonTech + False Tech)\n",
    "recall_nonTech_mod = cm_mod[1][1] / (cm_mod[1][1] + cm_mod[1][0])\n",
    "    # F1-Score: 2* Precision * Recall / (Precision + Recall)\n",
    "f1_nonTech_mod = 2*((prec_nonTech_mod*recall_nonTech_mod)/(prec_nonTech_mod + recall_nonTech_mod))"
   ]
  },
  {
   "cell_type": "code",
   "execution_count": 16,
   "metadata": {},
   "outputs": [
    {
     "name": "stdout",
     "output_type": "stream",
     "text": [
      "Accuracy: 0.788235294117647\n",
      "--------Tech---------\n",
      "Precision: 0.7288135593220338\n",
      "Recall: 0.9555555555555556\n",
      "F1-Score: 0.8269230769230769\n",
      "-------NonTech-------\n",
      "Precision: 0.9230769230769231\n",
      "Recall: 0.6\n",
      "F1-Score: 0.7272727272727274\n"
     ]
    }
   ],
   "source": [
    "print(f\"Accuracy: {acc_mod}\")\n",
    "print(\"--------Tech---------\")\n",
    "print(f\"Precision: {prec_tech_mod}\")\n",
    "print(f\"Recall: {recall_tech_mod}\")\n",
    "print(f\"F1-Score: {f1_tech_mod}\")\n",
    "print(\"-------NonTech-------\")\n",
    "print(f\"Precision: {prec_nonTech_mod}\")\n",
    "print(f\"Recall: {recall_nonTech_mod}\")\n",
    "print(f\"F1-Score: {f1_nonTech_mod}\")"
   ]
  },
  {
   "cell_type": "markdown",
   "metadata": {},
   "source": [
    "### Unsere Modefikation:\n",
    "getwordsmodified() zählt wie oft ein Wort in eine Artikel vorkommt und diese Zusatzinformation wird auch beim trainieren verwendet.\n",
    "Somit werden die Wörte nach Häufigkeit gewichtet.\n",
    "\n",
    "Durch unsere Modifikationen hat sich die Accuracy von 71% auf 75% verbessert (schwankt je nach Testdaten).\n",
    "Die Precision Werte sind bei beiden Kategorien gestiegen, der Wert bleibt jedoch höher bei der Kategorie nonTech.\n",
    "Die Recall Werte sind auch gestiegen, und auch hier bleibt der Wert für die Kategorie Tech höher (ähnlich wie bei nicht modifizierten).\n",
    "Der F1-Score erhöht sich auch bei beiden Kategorien, ist bei Tech aber höher als bei nonTech."
   ]
  }
 ],
 "metadata": {
  "kernelspec": {
   "display_name": "DMaPR",
   "language": "python",
   "name": "python3"
  },
  "language_info": {
   "codemirror_mode": {
    "name": "ipython",
    "version": 3
   },
   "file_extension": ".py",
   "mimetype": "text/x-python",
   "name": "python",
   "nbconvert_exporter": "python",
   "pygments_lexer": "ipython3",
   "version": "3.10.15"
  },
  "nav_menu": {},
  "toc": {
   "base_numbering": 1,
   "nav_menu": {},
   "number_sections": true,
   "sideBar": true,
   "skip_h1_title": false,
   "title_cell": "Table of Contents",
   "title_sidebar": "Contents",
   "toc_cell": false,
   "toc_position": {},
   "toc_section_display": "block",
   "toc_window_display": false
  }
 },
 "nbformat": 4,
 "nbformat_minor": 4
}
